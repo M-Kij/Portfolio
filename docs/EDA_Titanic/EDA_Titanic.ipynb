{
 "cells": [
  {
   "cell_type": "markdown",
   "metadata": {},
   "source": [
    "# EDA danych dotyczących pasażerów Tytanica"
   ]
  },
  {
   "cell_type": "markdown",
   "metadata": {},
   "source": [
    "## O Danych\n",
    "\n",
    "Dane o pasażerach Titanica\n",
    "\n",
    "Zbiór danych zawiera informacje o pasażerach RMS Titanic, który zatonął 15 kwietnia 1912 roku po zderzeniu z górą\n",
    "lodową. Dane obejmują takie atrybuty jak klasa podróży, wiek, płeć, liczba rodzeństwa/małżonków na pokładzie,\n",
    "liczba rodziców/dzieci na pokładzie, cena biletu oraz miejsce zaokrętowania.\n",
    "\n",
    "Zbiór zawiera także informację o tym, czy pasażer przeżył katastrofę.\n",
    "\n",
    "Titanic przewoził ponad 2,200 osób, z czego ponad 1,500 zginęło, co czyni tę katastrofę jedną z najbardziej\n",
    "tragicznych w historii morskiej.\n",
    "\n",
    "Kolumny:\n",
    "\n",
    "* **pclass** - Klasa biletu\n",
    "* **survived** - Czy pasażer przeżył katastrofę\n",
    "* **name** - Imię i nazwisko pasażera\n",
    "* **sex** - Płeć pasażera\n",
    "* **age** - Wiek pasażera\n",
    "* **sibsp** - Liczba rodzeństwa/małżonków na pokładzie\n",
    "* **parch** - Liczba rodziców/dzieci na pokładzie\n",
    "* **ticket** - Numer biletu\n",
    "* **fare** - Cena biletu\n",
    "* **cabin** - Numer kabiny\n",
    "* **embarked** - Port, w którym pasażer wszedł na pokład (C = Cherbourg, Q = Queenstown, S = Southampton)\n",
    "* **boat** - Numer łodzi ratunkowej\n",
    "* **body** - Numer ciała (jeśli pasażer nie przeżył i ciało zostało odnalezione)\n",
    "* **home.dest** - Miejsce docelowe"
   ]
  },
  {
   "cell_type": "markdown",
   "metadata": {},
   "source": [
    "## A. Wcztywanie danych i ogólny przegląd danych"
   ]
  },
  {
   "cell_type": "code",
   "execution_count": 2,
   "metadata": {},
   "outputs": [],
   "source": [
    "import pandas as pd\n",
    "import matplotlib.pyplot as plt"
   ]
  },
  {
   "cell_type": "code",
   "execution_count": 3,
   "metadata": {},
   "outputs": [
    {
     "data": {
      "text/html": [
       "<div>\n",
       "<style scoped>\n",
       "    .dataframe tbody tr th:only-of-type {\n",
       "        vertical-align: middle;\n",
       "    }\n",
       "\n",
       "    .dataframe tbody tr th {\n",
       "        vertical-align: top;\n",
       "    }\n",
       "\n",
       "    .dataframe thead th {\n",
       "        text-align: right;\n",
       "    }\n",
       "</style>\n",
       "<table border=\"1\" class=\"dataframe\">\n",
       "  <thead>\n",
       "    <tr style=\"text-align: right;\">\n",
       "      <th></th>\n",
       "      <th>pclass</th>\n",
       "      <th>survived</th>\n",
       "      <th>name</th>\n",
       "      <th>sex</th>\n",
       "      <th>age</th>\n",
       "      <th>sibsp</th>\n",
       "      <th>parch</th>\n",
       "      <th>ticket</th>\n",
       "      <th>fare</th>\n",
       "      <th>cabin</th>\n",
       "      <th>embarked</th>\n",
       "      <th>boat</th>\n",
       "      <th>body</th>\n",
       "      <th>home.dest</th>\n",
       "    </tr>\n",
       "  </thead>\n",
       "  <tbody>\n",
       "    <tr>\n",
       "      <th>0</th>\n",
       "      <td>1.0</td>\n",
       "      <td>1.0</td>\n",
       "      <td>Allen, Miss. Elisabeth Walton</td>\n",
       "      <td>female</td>\n",
       "      <td>29.0000</td>\n",
       "      <td>0.0</td>\n",
       "      <td>0.0</td>\n",
       "      <td>24160</td>\n",
       "      <td>211.3375</td>\n",
       "      <td>B5</td>\n",
       "      <td>S</td>\n",
       "      <td>2</td>\n",
       "      <td>NaN</td>\n",
       "      <td>St Louis, MO</td>\n",
       "    </tr>\n",
       "    <tr>\n",
       "      <th>1</th>\n",
       "      <td>1.0</td>\n",
       "      <td>1.0</td>\n",
       "      <td>Allison, Master. Hudson Trevor</td>\n",
       "      <td>male</td>\n",
       "      <td>0.9167</td>\n",
       "      <td>1.0</td>\n",
       "      <td>2.0</td>\n",
       "      <td>113781</td>\n",
       "      <td>151.5500</td>\n",
       "      <td>C22 C26</td>\n",
       "      <td>S</td>\n",
       "      <td>11</td>\n",
       "      <td>NaN</td>\n",
       "      <td>Montreal, PQ / Chesterville, ON</td>\n",
       "    </tr>\n",
       "    <tr>\n",
       "      <th>2</th>\n",
       "      <td>1.0</td>\n",
       "      <td>0.0</td>\n",
       "      <td>Allison, Miss. Helen Loraine</td>\n",
       "      <td>female</td>\n",
       "      <td>2.0000</td>\n",
       "      <td>1.0</td>\n",
       "      <td>2.0</td>\n",
       "      <td>113781</td>\n",
       "      <td>151.5500</td>\n",
       "      <td>C22 C26</td>\n",
       "      <td>S</td>\n",
       "      <td>NaN</td>\n",
       "      <td>NaN</td>\n",
       "      <td>Montreal, PQ / Chesterville, ON</td>\n",
       "    </tr>\n",
       "    <tr>\n",
       "      <th>3</th>\n",
       "      <td>1.0</td>\n",
       "      <td>0.0</td>\n",
       "      <td>Allison, Mr. Hudson Joshua Creighton</td>\n",
       "      <td>male</td>\n",
       "      <td>30.0000</td>\n",
       "      <td>1.0</td>\n",
       "      <td>2.0</td>\n",
       "      <td>113781</td>\n",
       "      <td>151.5500</td>\n",
       "      <td>C22 C26</td>\n",
       "      <td>S</td>\n",
       "      <td>NaN</td>\n",
       "      <td>135.0</td>\n",
       "      <td>Montreal, PQ / Chesterville, ON</td>\n",
       "    </tr>\n",
       "    <tr>\n",
       "      <th>4</th>\n",
       "      <td>1.0</td>\n",
       "      <td>0.0</td>\n",
       "      <td>Allison, Mrs. Hudson J C (Bessie Waldo Daniels)</td>\n",
       "      <td>female</td>\n",
       "      <td>25.0000</td>\n",
       "      <td>1.0</td>\n",
       "      <td>2.0</td>\n",
       "      <td>113781</td>\n",
       "      <td>151.5500</td>\n",
       "      <td>C22 C26</td>\n",
       "      <td>S</td>\n",
       "      <td>NaN</td>\n",
       "      <td>NaN</td>\n",
       "      <td>Montreal, PQ / Chesterville, ON</td>\n",
       "    </tr>\n",
       "    <tr>\n",
       "      <th>...</th>\n",
       "      <td>...</td>\n",
       "      <td>...</td>\n",
       "      <td>...</td>\n",
       "      <td>...</td>\n",
       "      <td>...</td>\n",
       "      <td>...</td>\n",
       "      <td>...</td>\n",
       "      <td>...</td>\n",
       "      <td>...</td>\n",
       "      <td>...</td>\n",
       "      <td>...</td>\n",
       "      <td>...</td>\n",
       "      <td>...</td>\n",
       "      <td>...</td>\n",
       "    </tr>\n",
       "    <tr>\n",
       "      <th>1305</th>\n",
       "      <td>3.0</td>\n",
       "      <td>0.0</td>\n",
       "      <td>Zabour, Miss. Thamine</td>\n",
       "      <td>female</td>\n",
       "      <td>NaN</td>\n",
       "      <td>1.0</td>\n",
       "      <td>0.0</td>\n",
       "      <td>2665</td>\n",
       "      <td>14.4542</td>\n",
       "      <td>NaN</td>\n",
       "      <td>C</td>\n",
       "      <td>NaN</td>\n",
       "      <td>NaN</td>\n",
       "      <td>NaN</td>\n",
       "    </tr>\n",
       "    <tr>\n",
       "      <th>1306</th>\n",
       "      <td>3.0</td>\n",
       "      <td>0.0</td>\n",
       "      <td>Zakarian, Mr. Mapriededer</td>\n",
       "      <td>male</td>\n",
       "      <td>26.5000</td>\n",
       "      <td>0.0</td>\n",
       "      <td>0.0</td>\n",
       "      <td>2656</td>\n",
       "      <td>7.2250</td>\n",
       "      <td>NaN</td>\n",
       "      <td>C</td>\n",
       "      <td>NaN</td>\n",
       "      <td>304.0</td>\n",
       "      <td>NaN</td>\n",
       "    </tr>\n",
       "    <tr>\n",
       "      <th>1307</th>\n",
       "      <td>3.0</td>\n",
       "      <td>0.0</td>\n",
       "      <td>Zakarian, Mr. Ortin</td>\n",
       "      <td>male</td>\n",
       "      <td>27.0000</td>\n",
       "      <td>0.0</td>\n",
       "      <td>0.0</td>\n",
       "      <td>2670</td>\n",
       "      <td>7.2250</td>\n",
       "      <td>NaN</td>\n",
       "      <td>C</td>\n",
       "      <td>NaN</td>\n",
       "      <td>NaN</td>\n",
       "      <td>NaN</td>\n",
       "    </tr>\n",
       "    <tr>\n",
       "      <th>1308</th>\n",
       "      <td>3.0</td>\n",
       "      <td>0.0</td>\n",
       "      <td>Zimmerman, Mr. Leo</td>\n",
       "      <td>male</td>\n",
       "      <td>29.0000</td>\n",
       "      <td>0.0</td>\n",
       "      <td>0.0</td>\n",
       "      <td>315082</td>\n",
       "      <td>7.8750</td>\n",
       "      <td>NaN</td>\n",
       "      <td>S</td>\n",
       "      <td>NaN</td>\n",
       "      <td>NaN</td>\n",
       "      <td>NaN</td>\n",
       "    </tr>\n",
       "    <tr>\n",
       "      <th>1309</th>\n",
       "      <td>NaN</td>\n",
       "      <td>NaN</td>\n",
       "      <td>NaN</td>\n",
       "      <td>NaN</td>\n",
       "      <td>NaN</td>\n",
       "      <td>NaN</td>\n",
       "      <td>NaN</td>\n",
       "      <td>NaN</td>\n",
       "      <td>NaN</td>\n",
       "      <td>NaN</td>\n",
       "      <td>NaN</td>\n",
       "      <td>NaN</td>\n",
       "      <td>NaN</td>\n",
       "      <td>NaN</td>\n",
       "    </tr>\n",
       "  </tbody>\n",
       "</table>\n",
       "<p>1310 rows × 14 columns</p>\n",
       "</div>"
      ],
      "text/plain": [
       "      pclass  survived                                             name  \\\n",
       "0        1.0       1.0                    Allen, Miss. Elisabeth Walton   \n",
       "1        1.0       1.0                   Allison, Master. Hudson Trevor   \n",
       "2        1.0       0.0                     Allison, Miss. Helen Loraine   \n",
       "3        1.0       0.0             Allison, Mr. Hudson Joshua Creighton   \n",
       "4        1.0       0.0  Allison, Mrs. Hudson J C (Bessie Waldo Daniels)   \n",
       "...      ...       ...                                              ...   \n",
       "1305     3.0       0.0                            Zabour, Miss. Thamine   \n",
       "1306     3.0       0.0                        Zakarian, Mr. Mapriededer   \n",
       "1307     3.0       0.0                              Zakarian, Mr. Ortin   \n",
       "1308     3.0       0.0                               Zimmerman, Mr. Leo   \n",
       "1309     NaN       NaN                                              NaN   \n",
       "\n",
       "         sex      age  sibsp  parch  ticket      fare    cabin embarked boat  \\\n",
       "0     female  29.0000    0.0    0.0   24160  211.3375       B5        S    2   \n",
       "1       male   0.9167    1.0    2.0  113781  151.5500  C22 C26        S   11   \n",
       "2     female   2.0000    1.0    2.0  113781  151.5500  C22 C26        S  NaN   \n",
       "3       male  30.0000    1.0    2.0  113781  151.5500  C22 C26        S  NaN   \n",
       "4     female  25.0000    1.0    2.0  113781  151.5500  C22 C26        S  NaN   \n",
       "...      ...      ...    ...    ...     ...       ...      ...      ...  ...   \n",
       "1305  female      NaN    1.0    0.0    2665   14.4542      NaN        C  NaN   \n",
       "1306    male  26.5000    0.0    0.0    2656    7.2250      NaN        C  NaN   \n",
       "1307    male  27.0000    0.0    0.0    2670    7.2250      NaN        C  NaN   \n",
       "1308    male  29.0000    0.0    0.0  315082    7.8750      NaN        S  NaN   \n",
       "1309     NaN      NaN    NaN    NaN     NaN       NaN      NaN      NaN  NaN   \n",
       "\n",
       "       body                        home.dest  \n",
       "0       NaN                     St Louis, MO  \n",
       "1       NaN  Montreal, PQ / Chesterville, ON  \n",
       "2       NaN  Montreal, PQ / Chesterville, ON  \n",
       "3     135.0  Montreal, PQ / Chesterville, ON  \n",
       "4       NaN  Montreal, PQ / Chesterville, ON  \n",
       "...     ...                              ...  \n",
       "1305    NaN                              NaN  \n",
       "1306  304.0                              NaN  \n",
       "1307    NaN                              NaN  \n",
       "1308    NaN                              NaN  \n",
       "1309    NaN                              NaN  \n",
       "\n",
       "[1310 rows x 14 columns]"
      ]
     },
     "execution_count": 3,
     "metadata": {},
     "output_type": "execute_result"
    }
   ],
   "source": [
    "# WCZYTANIE DANYCH\n",
    "df = pd.read_csv('26__titanic.csv', sep=\",\")\n",
    "df"
   ]
  },
  {
   "cell_type": "code",
   "execution_count": 4,
   "metadata": {},
   "outputs": [
    {
     "name": "stdout",
     "output_type": "stream",
     "text": [
      "<class 'pandas.core.frame.DataFrame'>\n",
      "RangeIndex: 1310 entries, 0 to 1309\n",
      "Data columns (total 14 columns):\n",
      " #   Column     Non-Null Count  Dtype  \n",
      "---  ------     --------------  -----  \n",
      " 0   pclass     1309 non-null   float64\n",
      " 1   survived   1309 non-null   float64\n",
      " 2   name       1309 non-null   object \n",
      " 3   sex        1309 non-null   object \n",
      " 4   age        1046 non-null   float64\n",
      " 5   sibsp      1309 non-null   float64\n",
      " 6   parch      1309 non-null   float64\n",
      " 7   ticket     1309 non-null   object \n",
      " 8   fare       1308 non-null   float64\n",
      " 9   cabin      295 non-null    object \n",
      " 10  embarked   1307 non-null   object \n",
      " 11  boat       486 non-null    object \n",
      " 12  body       121 non-null    float64\n",
      " 13  home.dest  745 non-null    object \n",
      "dtypes: float64(7), object(7)\n",
      "memory usage: 143.4+ KB\n"
     ]
    }
   ],
   "source": [
    "# Przegląd kolumn i typów danych\n",
    "df.info()"
   ]
  },
  {
   "cell_type": "code",
   "execution_count": null,
   "metadata": {},
   "outputs": [],
   "source": [
    "# Wartości unikatowe w kolumnach\n",
    "df.nunique()"
   ]
  },
  {
   "cell_type": "code",
   "execution_count": 20,
   "metadata": {},
   "outputs": [
    {
     "data": {
      "text/html": [
       "<div>\n",
       "<style scoped>\n",
       "    .dataframe tbody tr th:only-of-type {\n",
       "        vertical-align: middle;\n",
       "    }\n",
       "\n",
       "    .dataframe tbody tr th {\n",
       "        vertical-align: top;\n",
       "    }\n",
       "\n",
       "    .dataframe thead th {\n",
       "        text-align: right;\n",
       "    }\n",
       "</style>\n",
       "<table border=\"1\" class=\"dataframe\">\n",
       "  <thead>\n",
       "    <tr style=\"text-align: right;\">\n",
       "      <th></th>\n",
       "      <th>pclass</th>\n",
       "      <th>survived</th>\n",
       "      <th>age</th>\n",
       "      <th>sibsp</th>\n",
       "      <th>parch</th>\n",
       "      <th>uni_val</th>\n",
       "      <th>fare</th>\n",
       "      <th>body</th>\n",
       "    </tr>\n",
       "  </thead>\n",
       "  <tbody>\n",
       "    <tr>\n",
       "      <th>count</th>\n",
       "      <td>1309.000000</td>\n",
       "      <td>1309.000000</td>\n",
       "      <td>1046.000000</td>\n",
       "      <td>1309.000000</td>\n",
       "      <td>1309.000000</td>\n",
       "      <td>1309.000000</td>\n",
       "      <td>1308.000000</td>\n",
       "      <td>121.000000</td>\n",
       "    </tr>\n",
       "    <tr>\n",
       "      <th>mean</th>\n",
       "      <td>2.294882</td>\n",
       "      <td>0.381971</td>\n",
       "      <td>29.881166</td>\n",
       "      <td>0.498854</td>\n",
       "      <td>0.385027</td>\n",
       "      <td>2.101604</td>\n",
       "      <td>33.295479</td>\n",
       "      <td>160.809917</td>\n",
       "    </tr>\n",
       "    <tr>\n",
       "      <th>std</th>\n",
       "      <td>0.837836</td>\n",
       "      <td>0.486055</td>\n",
       "      <td>14.413435</td>\n",
       "      <td>1.041658</td>\n",
       "      <td>0.865560</td>\n",
       "      <td>1.779832</td>\n",
       "      <td>51.758668</td>\n",
       "      <td>97.696922</td>\n",
       "    </tr>\n",
       "    <tr>\n",
       "      <th>min</th>\n",
       "      <td>1.000000</td>\n",
       "      <td>0.000000</td>\n",
       "      <td>0.200000</td>\n",
       "      <td>0.000000</td>\n",
       "      <td>0.000000</td>\n",
       "      <td>1.000000</td>\n",
       "      <td>0.000000</td>\n",
       "      <td>1.000000</td>\n",
       "    </tr>\n",
       "    <tr>\n",
       "      <th>25%</th>\n",
       "      <td>2.000000</td>\n",
       "      <td>0.000000</td>\n",
       "      <td>21.000000</td>\n",
       "      <td>0.000000</td>\n",
       "      <td>0.000000</td>\n",
       "      <td>1.000000</td>\n",
       "      <td>7.895800</td>\n",
       "      <td>72.000000</td>\n",
       "    </tr>\n",
       "    <tr>\n",
       "      <th>50%</th>\n",
       "      <td>3.000000</td>\n",
       "      <td>0.000000</td>\n",
       "      <td>28.000000</td>\n",
       "      <td>0.000000</td>\n",
       "      <td>0.000000</td>\n",
       "      <td>1.000000</td>\n",
       "      <td>14.454200</td>\n",
       "      <td>155.000000</td>\n",
       "    </tr>\n",
       "    <tr>\n",
       "      <th>75%</th>\n",
       "      <td>3.000000</td>\n",
       "      <td>1.000000</td>\n",
       "      <td>39.000000</td>\n",
       "      <td>1.000000</td>\n",
       "      <td>0.000000</td>\n",
       "      <td>3.000000</td>\n",
       "      <td>31.275000</td>\n",
       "      <td>256.000000</td>\n",
       "    </tr>\n",
       "    <tr>\n",
       "      <th>max</th>\n",
       "      <td>3.000000</td>\n",
       "      <td>1.000000</td>\n",
       "      <td>80.000000</td>\n",
       "      <td>8.000000</td>\n",
       "      <td>9.000000</td>\n",
       "      <td>11.000000</td>\n",
       "      <td>512.329200</td>\n",
       "      <td>328.000000</td>\n",
       "    </tr>\n",
       "  </tbody>\n",
       "</table>\n",
       "</div>"
      ],
      "text/plain": [
       "            pclass     survived          age        sibsp        parch  \\\n",
       "count  1309.000000  1309.000000  1046.000000  1309.000000  1309.000000   \n",
       "mean      2.294882     0.381971    29.881166     0.498854     0.385027   \n",
       "std       0.837836     0.486055    14.413435     1.041658     0.865560   \n",
       "min       1.000000     0.000000     0.200000     0.000000     0.000000   \n",
       "25%       2.000000     0.000000    21.000000     0.000000     0.000000   \n",
       "50%       3.000000     0.000000    28.000000     0.000000     0.000000   \n",
       "75%       3.000000     1.000000    39.000000     1.000000     0.000000   \n",
       "max       3.000000     1.000000    80.000000     8.000000     9.000000   \n",
       "\n",
       "           uni_val         fare        body  \n",
       "count  1309.000000  1308.000000  121.000000  \n",
       "mean      2.101604    33.295479  160.809917  \n",
       "std       1.779832    51.758668   97.696922  \n",
       "min       1.000000     0.000000    1.000000  \n",
       "25%       1.000000     7.895800   72.000000  \n",
       "50%       1.000000    14.454200  155.000000  \n",
       "75%       3.000000    31.275000  256.000000  \n",
       "max      11.000000   512.329200  328.000000  "
      ]
     },
     "execution_count": 20,
     "metadata": {},
     "output_type": "execute_result"
    }
   ],
   "source": [
    "# Wstępna analiza statystyczna danych numerycznych\n",
    "df.describe()"
   ]
  },
  {
   "cell_type": "code",
   "execution_count": 5,
   "metadata": {},
   "outputs": [],
   "source": [
    "# USUNIĘCIE WIERSZA o indeksie 1309\n",
    "df.drop(1309, inplace=True)"
   ]
  },
  {
   "cell_type": "code",
   "execution_count": 6,
   "metadata": {},
   "outputs": [],
   "source": [
    "# USTAWIENIE WYŚWIETLANIA wszystkich kolumn\n",
    "pd.set_option('display.max_columns', None)"
   ]
  },
  {
   "cell_type": "markdown",
   "metadata": {},
   "source": [
    "### Wnioski\n",
    "1. Baza danych składa się z 1310 wierszy i 14 kolumn (7 z liczbami zmiennoprzecinkowymi i 7 z danymi tekstowymi)\n",
    "2. Wiersz o indeksie 1309 nie zawiera żadnych danych, więc został usunięty\n",
    "3. Wyróżniono 3 klasy biletów, 3 porty, w których pasażerowie wsiedli na statek i 27 różnych numerów łodzi ratunkowych (co dziwne, bo jak sprawdziłem mieli ich tylko 20)\n",
    "4. Najstarszy pasażer miał 80 lat\n",
    "5. Najwieksza rodzina miała dziwięcioro dzieci\n",
    "6. Najdroższy bilet kosztował 512,33"
   ]
  },
  {
   "cell_type": "markdown",
   "metadata": {},
   "source": [
    "## B. Analiza brakujących wartości"
   ]
  },
  {
   "cell_type": "code",
   "execution_count": null,
   "metadata": {},
   "outputs": [],
   "source": [
    "# Sprawdzenie ile wartości brakuje w każdej kolumnie df\n",
    "df.isnull().sum()"
   ]
  },
  {
   "cell_type": "code",
   "execution_count": null,
   "metadata": {},
   "outputs": [],
   "source": [
    "# Sprawdzenie grupy pasażerów, u których nie ma podanego wieku\n",
    "df[df[\"age\"].isnull()].sample(10)"
   ]
  },
  {
   "cell_type": "code",
   "execution_count": null,
   "metadata": {},
   "outputs": [],
   "source": [
    "# Sprawdzenie, czy pasażerowie u których nie ma podanej kabiny należą do klasy 3\n",
    "df[df[\"cabin\"].isnull()].groupby('pclass').size().reset_index(name=\"count\")"
   ]
  },
  {
   "cell_type": "markdown",
   "metadata": {},
   "source": [
    "### Wnioski\n",
    "1. W niektórych kolumnach brakuje pojedynczych danych\n",
    "2. W kolumnie \"age\" brakuje około 20% danych, nad czym warto będzie się zastanowić\n",
    "4. Brakuje większości danych w kolumnie \"cabin\", co nie jest związane z tym, że pasażerowie tańszych klas mogli nie wykupować kajut\n",
    "5. Brak danych w kolumnie \"boat\" i \"body\" nie dziwi, biorąc pod uwagę specyfikę zdarzenia opisanego tą bazą\n"
   ]
  },
  {
   "cell_type": "markdown",
   "metadata": {},
   "source": [
    "## C. Analiza pojedynczych zmiennych i transformacja danych"
   ]
  },
  {
   "cell_type": "markdown",
   "metadata": {},
   "source": [
    "### 1. Klasy biletów"
   ]
  },
  {
   "cell_type": "code",
   "execution_count": 7,
   "metadata": {},
   "outputs": [],
   "source": [
    "# ZMIANA TYPU ZMIENNYCH w kolumnie \"pclass\" na liczby całkowite\n",
    "df['pclass'] = df['pclass'].astype(int)"
   ]
  },
  {
   "cell_type": "code",
   "execution_count": null,
   "metadata": {},
   "outputs": [],
   "source": [
    "# Sprawdzenie ilu pasażerów miało bilety kolejnych klas\n",
    "pclass_df = df[\"pclass\"].value_counts().reset_index()\n",
    "pclass_df.columns=['klasa', 'liczba']\n",
    "pclass_df.sort_values(by='klasa', inplace=True)\n",
    "pclass_df"
   ]
  },
  {
   "cell_type": "code",
   "execution_count": null,
   "metadata": {},
   "outputs": [],
   "source": [
    "# Generowanie wykresu pokazującego podział pasażerów w zalezności od klasy biletu\n",
    "pclass_df.plot(kind='bar', x='klasa', y=\"liczba\", legend=False, title=\"Klasy biletów pasażerów\",rot=0, color=[\"r\", \"g\",\"b\"]) \n",
    "plt.show() "
   ]
  },
  {
   "cell_type": "markdown",
   "metadata": {},
   "source": [
    "#### Wnioski\n",
    "* Pasażerów z biletami pierwszej klasy było 323, drugiej klasy 277 a trzeciej klasy 709\n",
    "* Pasażerów trzeciej klasy było więcej, niż pierwszej i drugiej razem\n"
   ]
  },
  {
   "cell_type": "markdown",
   "metadata": {},
   "source": [
    "### 2. Przeżywalność"
   ]
  },
  {
   "cell_type": "code",
   "execution_count": null,
   "metadata": {},
   "outputs": [],
   "source": [
    "# Sprawdzanie ile osób zginęło a ile przeżyło\n",
    "survived_df = df[\"survived\"].value_counts().reset_index()\n",
    "survived_df.columns=['przeżywalność', 'liczba']\n",
    "survived_df['przeżywalność'].replace({0:\"martwi\", 1:\"żywi\"}, inplace=True)\n",
    "survived_df['procent'] = survived_df['liczba'].transform(lambda x: 100 * x / x.sum()).round(1)\n",
    "survived_df"
   ]
  },
  {
   "cell_type": "code",
   "execution_count": null,
   "metadata": {},
   "outputs": [],
   "source": [
    "dead_sex_df = df.groupby(['sex', 'survived']).size().reset_index(name='liczba')\n",
    "dead_sex_df = dead_sex_df.rename(columns={'sex' : 'płeć'})\n",
    "# Dodanie kolumny z wyliczeniem wartości procentowej\n",
    "dead_sex_df['procent'] = dead_sex_df.groupby('płeć')['liczba'].transform(lambda x: 100 * x / x.sum()).round(1)\n",
    "dead_sex_df"
   ]
  },
  {
   "cell_type": "code",
   "execution_count": null,
   "metadata": {},
   "outputs": [],
   "source": [
    "# Generowanie wykresu pokazującego ilu pasażerów przeżyło\n",
    "survived_df.plot(kind='bar', x='przeżywalność', y=\"liczba\",title=\"Przeżywalność pasażerów\", legend=False, color=[\"r\", \"g\"], rot=0) \n",
    "plt.show() "
   ]
  },
  {
   "cell_type": "markdown",
   "metadata": {},
   "source": [
    "#### Wnioski\n",
    "Katastrofę przeżyło 500 pasażerów, czyli 38,2% a zginęło 809, czyli 61,8%"
   ]
  },
  {
   "cell_type": "markdown",
   "metadata": {},
   "source": [
    "### 3. Nazwiska pasażerów"
   ]
  },
  {
   "cell_type": "code",
   "execution_count": 8,
   "metadata": {},
   "outputs": [],
   "source": [
    "# PRZETWARZANIE KOLUMNY \"name\"\n",
    "# Utworzenie czterech dodatkowych kolumn, roboczej \"n_split' oraz \"surname\" nazwisko, \"title\" tytuł, \"maiden_n\" nazwisko panieńskie/rodowe\n",
    "df.insert(3, 'n_split',\"\")\n",
    "df.insert(4, 'surname',\"\")\n",
    "df.insert(5, 'title',\"\")\n",
    "df.insert(6, 'maiden_n',\"\")\n",
    "# Przekazanie danych z oryginalnej kolumny \"name\" do kolumny roboczej rozdzielonych wcześniej przecinkiem\n",
    "df['n_split'] = df['name'].str.split(\",\")\n",
    "# Przkazanie z kolumny roboczej \"n_split\" pierwszej części do kolumny \"surname\" a drugiej części do kolumny \"title\"\n",
    "df['surname'] = df['n_split'].apply(lambda x: x[0] if isinstance(x, list) else None)\n",
    "df['title'] = df['n_split'].apply(lambda x: x[1] if isinstance(x, list) else None)\n",
    "# Przekazanie z kolumny \"title\" do \"maiden_n\" końca zawarotści komórek od ostatniej spacji i bez ostatniego znaku, pod warunkiem, \n",
    "# że napis zakończony jest znakiem ')', ale przed którym nie ma znaku'\"' (bo tak zaznaczone są przydomki/aliasy)\n",
    "df['maiden_n'] = df['title'].apply(lambda x: x[::-1].split(' ', 1)[0][::-1][:-1] if isinstance(x, str) and x.endswith(')') and not x[-2] == '\"' else None)\n",
    "# Usunięcie z kolumny \"maiden_n\" samych imion (w takich przypadkach dane zaczynały się od \"(\")\n",
    "df['maiden_n'] = df['maiden_n'].apply(lambda x: x if not isinstance(x, str) or not x.startswith('(') else None)\n",
    "# Przypisanie do kolumny \"title\" jej zawartości do pierwszej kropki, co daje sam \"tytuł\" pasażera\n",
    "df['title'] = df['title'].str.split('.', n=1).str[0]\n",
    "# Usunięcie tymczasowej kolumny \"n_split\"\n",
    "df.drop('n_split', axis=1, inplace=True)"
   ]
  },
  {
   "cell_type": "code",
   "execution_count": null,
   "metadata": {},
   "outputs": [],
   "source": [
    "# Sprawdzenie ilu było wszystkich pasażerów posiadających nazwiska\n",
    "df['surname'].notna().sum()"
   ]
  },
  {
   "cell_type": "code",
   "execution_count": null,
   "metadata": {},
   "outputs": [],
   "source": [
    "# Sprawdzenie ile było unikatowych nazwisk pasażerów\n",
    "df[\"surname\"].nunique()"
   ]
  },
  {
   "cell_type": "code",
   "execution_count": null,
   "metadata": {},
   "outputs": [],
   "source": [
    "# Sprawdzenie ile razy wśród pasażerów powtarzały się nazwiska i które najczęściej\n",
    "surname_df = df[\"surname\"].value_counts().reset_index().sort_values(by='surname', ascending=False)\n",
    "surname_df.columns = ['nazwisko', 'pasażerowie']\n",
    "surname_df.head(5)"
   ]
  },
  {
   "cell_type": "code",
   "execution_count": null,
   "metadata": {},
   "outputs": [],
   "source": [
    "# Sprawdzenie ilu pasażerów dzieliło swojego nazwiska z innymi pasażerami\n",
    "sur_count_df = surname_df['pasażerowie'].value_counts().reset_index()\n",
    "sur_count_df.columns = ['liczba nazwisk', 'liczba pasażerów']\n",
    "sur_count_df['suma pasażerów'] = sur_count_df['liczba nazwisk'] * sur_count_df['liczba pasażerów']\n",
    "sur_count_df"
   ]
  },
  {
   "cell_type": "code",
   "execution_count": null,
   "metadata": {},
   "outputs": [],
   "source": [
    "# Podział pasażerów w zależności od tego, czy współdzielili nazwisko z kimś innym\n",
    "sur_pie_df = sur_count_df.groupby(sur_count_df['liczba nazwisk'].apply(lambda x: '1' if x == 1 else 'więcej niż 1'))['suma pasażerów'].sum().reset_index()\n",
    "sur_pie_df.columns=['pasażerowie', 'liczba pasażerów']\n",
    "sur_pie_df['pasażerowie'] = ['\"samotni\"', '\"z rodzinami\"']\n",
    "sur_pie_df"
   ]
  },
  {
   "cell_type": "code",
   "execution_count": null,
   "metadata": {},
   "outputs": [],
   "source": [
    "# Generowanie wykresu kołowego pokazującego procentowy udział pasażerów \"samotnych\" i \"z rodzinami\"\n",
    "sur_pie_df.plot.pie(y='liczba pasażerów', labels=sur_pie_df['pasażerowie'], autopct='%1.1f%%', legend=False)\n",
    "plt.title('Pasażerowie współdzielący nazwiska z innymi lub nie')\n",
    "plt.show()             "
   ]
  },
  {
   "cell_type": "markdown",
   "metadata": {},
   "source": [
    "#### Wnioski\n",
    "* wszystkich pasażerów było 1309\n",
    "* pasażerowie mieli 875 różnych nazwisk\n",
    "* najwięcej pasażerów nosiło nazwiska Andersson i Sage, po 11 osób\n",
    "* 637 pasażerów (48,7 %) nie dzieliło nazwiska z nikim innym, a pozostali 672 (51,3 %) podróżowali z kimś o takim samym nazwisku (byc może z rodziną)"
   ]
  },
  {
   "cell_type": "markdown",
   "metadata": {},
   "source": [
    "### 4. \"Tytuły\" pasażerów"
   ]
  },
  {
   "cell_type": "code",
   "execution_count": null,
   "metadata": {},
   "outputs": [],
   "source": [
    "# Sprawdzenie ilu było wszystkich pasażerów posiadających \"tytuły\"\n",
    "df['title'].notna().sum()"
   ]
  },
  {
   "cell_type": "code",
   "execution_count": null,
   "metadata": {},
   "outputs": [],
   "source": [
    "# Sprawdzenie ile było unikatowych 'tytułów\" pasażerów\n",
    "df[\"title\"].nunique()"
   ]
  },
  {
   "cell_type": "code",
   "execution_count": null,
   "metadata": {},
   "outputs": [],
   "source": [
    "# Sprawdzenie ile razy wśród pasażerów powtarzały się \"tytuły\" i które najczęściej\n",
    "title_df = df[\"title\"].value_counts().reset_index().sort_values(by='title', ascending=False)\n",
    "title_df.columns = ['tytuł', 'liczba pasażerów']\n",
    "title_df"
   ]
  },
  {
   "cell_type": "markdown",
   "metadata": {},
   "source": [
    "#### Wnioski\n",
    "* każdy z 1309 pasażerów posiadał jakiś \"tytuł\"\n",
    "* najbardziej popularne \"tytuły\" wśród pasażerów: to Mr - Pan (757), Miss - Panna (260), Mrs - Pani (197) i Master - Mistrz/Pan (61)"
   ]
  },
  {
   "cell_type": "markdown",
   "metadata": {},
   "source": [
    "### 5. Nazwiska rodowe pasażerów"
   ]
  },
  {
   "cell_type": "code",
   "execution_count": null,
   "metadata": {},
   "outputs": [],
   "source": [
    "# Sprawdzenie ilu pasażerów znamy nazwiska rodowe\n",
    "df['maiden_n'].notna().sum()"
   ]
  },
  {
   "cell_type": "code",
   "execution_count": null,
   "metadata": {},
   "outputs": [],
   "source": [
    "# Sprawdzenie ilu pasażerów, których znamy nazwiska rodowe, to kobiety\n",
    "maiden_f = ((df['maiden_n'].notna()) & (df['sex'] == 'female')).sum()\n",
    "print(maiden_f)\n",
    "# maiden_m = ((df['maiden_n'].notna()) & (df['sex'] == 'male')).sum()\n",
    "# print(f\"Wśród pasażerów, których znamy nazwiska rodowe było {maiden_f} kobiet i {maiden_m} mężczyzn\")"
   ]
  },
  {
   "cell_type": "code",
   "execution_count": null,
   "metadata": {},
   "outputs": [],
   "source": [
    "# Sprawdzenie ilu pasażerów, których znamy nazwiska rodowe, to mężczyźni\n",
    "maiden_m = ((df['maiden_n'].notna()) & (df['sex'] == 'male')).sum()\n",
    "print(maiden_m)"
   ]
  },
  {
   "cell_type": "code",
   "execution_count": null,
   "metadata": {},
   "outputs": [],
   "source": [
    "# Sprawdzenie ile było unikatowych nazwisk rodowych pasażerów\n",
    "df[\"maiden_n\"].nunique()"
   ]
  },
  {
   "cell_type": "code",
   "execution_count": null,
   "metadata": {},
   "outputs": [],
   "source": [
    "# Sprawdzenie ile unikatowych nazwisk rodowych jest współdzielonych z nazwiskami pasażerów\n",
    "matching_values = df['maiden_n'][df['maiden_n'].isin(df['surname'])].unique()\n",
    "print(len(matching_values))"
   ]
  },
  {
   "cell_type": "markdown",
   "metadata": {},
   "source": [
    "#### Wnioski\n",
    "* 181 pasażerów miało nazwiska rodowe, w tym 178 kobiet i 3 mężczyzn\n",
    "* unikatowych nazwisk rodowych było 169, z czego 45 wystąpiło wśród nazwisk pasażerów"
   ]
  },
  {
   "cell_type": "markdown",
   "metadata": {},
   "source": [
    "### 6. Płeć"
   ]
  },
  {
   "cell_type": "code",
   "execution_count": null,
   "metadata": {},
   "outputs": [],
   "source": [
    "# Sprawdzenie ilu było pasażerów jakiej płci\n",
    "sex_df = df[\"sex\"].value_counts().reset_index()\n",
    "sex_df.columns=['płeć', 'liczba pasażerów']\n",
    "sex_df['płeć'].replace({\"male\":\"mężczyźni\", \"female\":\"kobiety\"}, inplace=True)\n",
    "sex_df"
   ]
  },
  {
   "cell_type": "code",
   "execution_count": null,
   "metadata": {},
   "outputs": [],
   "source": [
    "# Generowanie wykresu kołowego pokazującego podział pasażerów ze względu na płeć\n",
    "ax = sex_df.plot.pie(y='liczba pasażerów', labels=sex_df['płeć'], autopct='%1.1f%%', legend=False, colors=[\"yellow\", \"r\"])\n",
    "plt.title('Podział pasażerów ze względu na płeć')\n",
    "ax.set_ylabel('')\n",
    "plt.show()  "
   ]
  },
  {
   "cell_type": "markdown",
   "metadata": {},
   "source": [
    "#### Wnioski\n",
    "* wśród pasażerów było 843 mężczyz i 466 kobiet\n",
    "* mężczyźni stanowili 64,4% pasażerów a kobiety 35,6%"
   ]
  },
  {
   "cell_type": "markdown",
   "metadata": {},
   "source": [
    "### 7. Wiek"
   ]
  },
  {
   "cell_type": "code",
   "execution_count": null,
   "metadata": {},
   "outputs": [],
   "source": [
    "# Sprawdzenie liczby pasażerów bez podanego wieku\n",
    "df[\"age\"].isnull().sum()"
   ]
  },
  {
   "cell_type": "code",
   "execution_count": null,
   "metadata": {},
   "outputs": [],
   "source": [
    "# Sprawdzenie ilu pasażerów ma podany wiek\n",
    "age_df = df.dropna(subset=[\"age\"])\n",
    "age_df.shape[0]"
   ]
  },
  {
   "cell_type": "code",
   "execution_count": null,
   "metadata": {},
   "outputs": [],
   "source": [
    "# Analiza rozkładu liczebności poszczególnych grup wiekowych pasażerów\n",
    "ax = df['age'].plot(kind='hist', bins=8, edgecolor='red')\n",
    "ax.set_title('Histogram wieku pasażerów')\n",
    "ax.set_xlabel('Grupy wiekowe')\n",
    "ax.set_ylabel('Ilość pasażerów')\n",
    "plt.show()"
   ]
  },
  {
   "cell_type": "code",
   "execution_count": 9,
   "metadata": {},
   "outputs": [],
   "source": [
    "# ZAOKRĄGLENIE WIEKU PASAŻERÓW pasażerów do jednego miejsca po przecinku\n",
    "df['age'] = df['age'].apply(lambda x: round(x, 1) if pd.notna(x) else x)"
   ]
  },
  {
   "cell_type": "code",
   "execution_count": 10,
   "metadata": {},
   "outputs": [
    {
     "data": {
      "text/html": [
       "<div>\n",
       "<style scoped>\n",
       "    .dataframe tbody tr th:only-of-type {\n",
       "        vertical-align: middle;\n",
       "    }\n",
       "\n",
       "    .dataframe tbody tr th {\n",
       "        vertical-align: top;\n",
       "    }\n",
       "\n",
       "    .dataframe thead th {\n",
       "        text-align: right;\n",
       "    }\n",
       "</style>\n",
       "<table border=\"1\" class=\"dataframe\">\n",
       "  <thead>\n",
       "    <tr style=\"text-align: right;\">\n",
       "      <th></th>\n",
       "      <th>age_group</th>\n",
       "      <th>0</th>\n",
       "    </tr>\n",
       "  </thead>\n",
       "  <tbody>\n",
       "    <tr>\n",
       "      <th>0</th>\n",
       "      <td>dorośli</td>\n",
       "      <td>892</td>\n",
       "    </tr>\n",
       "    <tr>\n",
       "      <th>1</th>\n",
       "      <td>dzieci</td>\n",
       "      <td>154</td>\n",
       "    </tr>\n",
       "  </tbody>\n",
       "</table>\n",
       "</div>"
      ],
      "text/plain": [
       "  age_group    0\n",
       "0   dorośli  892\n",
       "1    dzieci  154"
      ]
     },
     "execution_count": 10,
     "metadata": {},
     "output_type": "execute_result"
    }
   ],
   "source": [
    "# UTWORZENIE NOWEJ KOLUMNY \"age_group\" z opisem grupy wiekowej\n",
    "df['age_group'] = df['age'].apply(lambda x: 'dzieci' if x < 18 else ('dorośli' if x >= 18 else None))\n",
    "# sprawdzenie ilu było wśród pasażerów dorosłych i dzieci\n",
    "df.groupby('age_group').size().reset_index()"
   ]
  },
  {
   "cell_type": "code",
   "execution_count": null,
   "metadata": {},
   "outputs": [],
   "source": [
    "# Sprawdzenie wieku najstarszego pasażera\n",
    "df['age'].max()"
   ]
  },
  {
   "cell_type": "markdown",
   "metadata": {},
   "source": [
    "#### Wnioski\n",
    "* znamy wiek 1046 pasażerów a nie znamy 264 pasażerów\n",
    "* rozkład wieku pasażerów jest normalny ze szczytem w grupie 20-30 lat\n",
    "* wśród pasażerów, których wiek znamy było 892 dorosłych i 154 dzieci\n",
    "* najstarszy pasażer miał 80 lat"
   ]
  },
  {
   "cell_type": "markdown",
   "metadata": {},
   "source": [
    "### 8. Bilety, służba i rodziny"
   ]
  },
  {
   "cell_type": "code",
   "execution_count": null,
   "metadata": {},
   "outputs": [],
   "source": [
    "# Sprawdzenie jak rozkładają się wartości w kolumnie \"sibsp\" - liczba rodzeństwa/małżonków na pokładzie\n",
    "sibsp_df = df[\"sibsp\"].value_counts().reset_index()\n",
    "sibsp_df"
   ]
  },
  {
   "cell_type": "code",
   "execution_count": null,
   "metadata": {},
   "outputs": [],
   "source": [
    "# Sprawdzenie jak rozkładają się wartości w kolumnie \"parch\" - liczba rodziców/dzieci na pokładzie\n",
    "parch_df = df[\"parch\"].value_counts().reset_index()\n",
    "parch_df"
   ]
  },
  {
   "cell_type": "code",
   "execution_count": null,
   "metadata": {},
   "outputs": [],
   "source": [
    "# Sprawdzenie u ilu osób podane zostałe informacje o pokrewieństwie\n",
    "fam_df = df[(df['sibsp'] > 0) | (df['parch'] > 0)]\n",
    "# fam_df.shape[0]\n",
    "fam_df"
   ]
  },
  {
   "cell_type": "code",
   "execution_count": null,
   "metadata": {},
   "outputs": [],
   "source": [
    "# Sprawdzenie ilu pasażerów miało bilety\n",
    "df['ticket'].notna().sum()"
   ]
  },
  {
   "cell_type": "code",
   "execution_count": null,
   "metadata": {},
   "outputs": [],
   "source": [
    "# Sprawdzenie ile zostało kupionych biletów\n",
    "df[\"ticket\"].nunique()"
   ]
  },
  {
   "cell_type": "code",
   "execution_count": 11,
   "metadata": {},
   "outputs": [],
   "source": [
    "# PRZETWARZANIE KOLUMNY ZWIĄZANEJ Z BILETAMI\n",
    "# Wstawienie kolumny z informacją ile osób korzystało z biletu danego pasażera (włącznie z nim)\n",
    "df.insert(11, 'uni_val',None)\n",
    "df['uni_val'] = df['ticket'].apply(lambda x: df['ticket'].tolist().count(x))"
   ]
  },
  {
   "cell_type": "code",
   "execution_count": null,
   "metadata": {},
   "outputs": [],
   "source": [
    "# Sprawdzenie ile było biletów grupowych\n",
    "print(len(df[df['uni_val'] > 1].groupby('ticket').size()))"
   ]
  },
  {
   "cell_type": "code",
   "execution_count": null,
   "metadata": {},
   "outputs": [],
   "source": [
    "# Sprawdzenie ile osób korzystało z biletów grupowych\n",
    "print((df['uni_val'] > 1).sum())"
   ]
  },
  {
   "cell_type": "markdown",
   "metadata": {},
   "source": [
    "#### Wnioski cz. 1\n",
    "* 1309 pasażerów kupiło łącznie 929 bilety, z czego 216 było grupowych (dla 596 osób)\n",
    "* 519 pasażerów było ze sobą spokrewnionych"
   ]
  },
  {
   "cell_type": "code",
   "execution_count": 12,
   "metadata": {},
   "outputs": [],
   "source": [
    "# PRZETWARZANIE KOLUMN ZWIĄZANYCH ZE SŁUŻĄCYMI I RODZINAMI\n",
    "# Wstawienie kolumny dla służących\n",
    "df.insert(8, 'maid',None)\n",
    "# Wstawienie kolumny z nazwiskami rodzin\n",
    "df.insert(8, 'fam',\"\")\n",
    "# Wypełnianie kolumny \"fam\" nazwiskami rodzin, które wystepują wspólnie na bilecie w formacie \"nazwisko_numer biletu\" i wykazują spokrewnienie\n",
    "df['fam'] = df.apply(lambda row: (row['surname']+'_'+row['ticket']) if (row['sibsp'] > 0 or row['parch'] > 0) else \"\", axis=1)"
   ]
  },
  {
   "cell_type": "code",
   "execution_count": 13,
   "metadata": {},
   "outputs": [],
   "source": [
    "# WYPEŁNIENIE KOLUMNY \"maid\"\n",
    "# Wybranie numerów biletów zakupionych przez rodziny\n",
    "fam_ticket = df[df['fam'] != '']['ticket']\n",
    "# Wpisanie do kolumny \"maid\" wartości \"1\" osobom, które z dużym prawdopodobieństwem pełniły rolę służących\n",
    "# arunkami wyboru były: obecność na bilecie klasy pierwszej przypisanym do rodziny, brak jakiegokolwiek pokrewieństwa, brak numeru kabiny lub miejsca docelowego\n",
    "df.loc[(df['ticket'].isin(fam_ticket)) & (df['sibsp'] == 0) & (df['parch'] == 0) & (df['pclass'] == 1) & ((df['cabin'].isna()) | (df['home.dest'].isna())), 'maid'] = 1"
   ]
  },
  {
   "cell_type": "code",
   "execution_count": null,
   "metadata": {},
   "outputs": [],
   "source": [
    "# Utworzenie df zawierającego tylko dane służących\n",
    "maid_df = df[df['maid'] == 1]"
   ]
  },
  {
   "cell_type": "code",
   "execution_count": null,
   "metadata": {},
   "outputs": [],
   "source": [
    "# Sprawdzenie wieku służących\n",
    "maid_df['age'].describe()"
   ]
  },
  {
   "cell_type": "code",
   "execution_count": null,
   "metadata": {},
   "outputs": [],
   "source": [
    "# Sprawdzenie płci służących\n",
    "maid_df.groupby('sex').size()"
   ]
  },
  {
   "cell_type": "code",
   "execution_count": null,
   "metadata": {},
   "outputs": [],
   "source": [
    "# Sprawdzenie \"tytułów\" służących\n",
    "maid_df.groupby('title').size()"
   ]
  },
  {
   "cell_type": "markdown",
   "metadata": {},
   "source": [
    "#### Wnioski cz. 2\n",
    "* na pokładzie było 23 służących, znamy wiek 20 z nich i wynosił od 22 lat, do 58 lat\n",
    "* wśród służących było 5 mężczyzn i 18 niezamężnych kobiet (określenie Dona stosowane było raczej do panien)"
   ]
  },
  {
   "cell_type": "code",
   "execution_count": null,
   "metadata": {},
   "outputs": [],
   "source": [
    "# utworzenie df tylko osób spokrewnionych\n",
    "fam_df = df[(df['sibsp'] > 0) | (df['parch'] > 0)]\n",
    "# Utworzenie df zawierającego pasżerów spokrewnionych, którzy kupili pojedyncze bilety\n",
    "single_fam_df = fam_df[fam_df['uni_val'] == 1].reset_index()"
   ]
  },
  {
   "cell_type": "code",
   "execution_count": null,
   "metadata": {
    "scrolled": true
   },
   "outputs": [],
   "source": [
    "# Sprawdzenie które nazwiska powtarzają się wśród pasażerów, którzy kupili pojedyncze bilety\n",
    "duplicates_df = single_fam_df[single_fam_df['surname'].apply(lambda x: single_fam_df['surname'].tolist().count(x) > 1)].reset_index()\n",
    "duplicates_df.drop('level_0', axis=1, inplace=True)\n",
    "duplicates_df"
   ]
  },
  {
   "cell_type": "code",
   "execution_count": 14,
   "metadata": {},
   "outputs": [],
   "source": [
    "# W KOLUMNIE \"fam\" łączenie członków rodzin, którzy kupili pojedyncze bilety\n",
    "df['fam'] = df['fam'].replace(\n",
    "    {'Duran y More_SC/PARIS 2149': 'Duran y More_SC/PARIS 2148',\n",
    "     'Giles_28133' : 'Giles_28134',\n",
    "     'Andersson_3101281' : 'Andersson_347091',\n",
    "     'Braund_3460' : 'Braund_A/5 21171',\n",
    "     'Elias_2690' : 'Elias_2675',\n",
    "     'Elias_2695' : 'Elias_2675',\n",
    "     'Gustafsson_3101276' : 'Gustafsson_3101277',\n",
    "     'Hagland_65303' : 'Hagland_65304',\n",
    "     'Ilmakangas_STON/O2. 3101270' : 'Ilmakangas_STON/O2. 3101271',\n",
    "     'Jussila_4136' : 'Jussila_4137',\n",
    "     'Kiernan_367227' : 'Kiernan_367229',\n",
    "     'Kink_315152' : 'Kink_315151',\n",
    "     'Olsen_C 17368' : 'Olsen_4579',\n",
    "     'Wiklund_3101267' : 'Wiklund_3101266'})"
   ]
  },
  {
   "cell_type": "code",
   "execution_count": null,
   "metadata": {
    "scrolled": true
   },
   "outputs": [],
   "source": [
    "# Sprawdzenie które nazwiska nie powtarzają się wśród pasażerów, którzy kupili pojedyncze bilety\n",
    "non_duplicates_df = single_fam_df[single_fam_df['surname'].apply(lambda x: single_fam_df['surname'].tolist().count(x) == 1)].reset_index()\n",
    "non_duplicates_df.drop('level_0', axis=1, inplace=True)\n",
    "non_duplicates_df"
   ]
  },
  {
   "cell_type": "code",
   "execution_count": null,
   "metadata": {},
   "outputs": [],
   "source": [
    "# Poszukiwanie krewnych pani Appleton, z domu Lamson\n",
    "df[df['maiden_n']=='Lamson']"
   ]
  },
  {
   "cell_type": "code",
   "execution_count": null,
   "metadata": {
    "scrolled": true
   },
   "outputs": [],
   "source": [
    "# Poszukiwanie krewnych pani Crosby\n",
    "df[df['surname']=='Crosby']"
   ]
  },
  {
   "cell_type": "code",
   "execution_count": null,
   "metadata": {},
   "outputs": [],
   "source": [
    "# Poszukiwanie krewnych Lady Duff Gordon\n",
    "df[df['surname']=='Duff Gordon']"
   ]
  },
  {
   "cell_type": "code",
   "execution_count": null,
   "metadata": {},
   "outputs": [],
   "source": [
    "# Poszukiwanie krewnych pana Frauenthal\n",
    "df[df['surname']=='Frauenthal']"
   ]
  },
  {
   "cell_type": "code",
   "execution_count": null,
   "metadata": {},
   "outputs": [],
   "source": [
    "# Poszukiwanie krewnych panny Frolicher\n",
    "df[df['surname'].str.contains('Frolicher', case=False, na=False)]"
   ]
  },
  {
   "cell_type": "code",
   "execution_count": null,
   "metadata": {},
   "outputs": [],
   "source": [
    "# Poszukiwanie krewnych panny Helen Monypeny Newsom\n",
    "df[df['name'].str.contains('Monypeny', case=False, na=False)]"
   ]
  },
  {
   "cell_type": "code",
   "execution_count": null,
   "metadata": {},
   "outputs": [],
   "source": [
    "# Sprawdzeni spokrewnionej pani Beckwith\n",
    "df[df['surname']=='Beckwith']"
   ]
  },
  {
   "cell_type": "code",
   "execution_count": null,
   "metadata": {},
   "outputs": [],
   "source": [
    "# Poszukiwanie krewnych pana Hocking\n",
    "df[df['surname']=='Hocking']"
   ]
  },
  {
   "cell_type": "code",
   "execution_count": null,
   "metadata": {},
   "outputs": [],
   "source": [
    "# Sprawdzenie spokrewnionej pani Hocking, z domu Needs\n",
    "df[df['maiden_n']=='Needs']"
   ]
  },
  {
   "cell_type": "code",
   "execution_count": null,
   "metadata": {},
   "outputs": [],
   "source": [
    "# Poszukiwanie krewnych panny Silven\n",
    "df[df['surname']=='Silven']"
   ]
  },
  {
   "cell_type": "code",
   "execution_count": null,
   "metadata": {},
   "outputs": [],
   "source": [
    "# Sprawdzenie numerów biletów podobnych do numeru biletu panny Silven odnalazło prawdopodobną rodzinę państwa Lahtinen, chociaż ich wiek budzi wątpliwości\n",
    "df[df['ticket'].str.contains('25065', case=False, na=False)]"
   ]
  },
  {
   "cell_type": "code",
   "execution_count": null,
   "metadata": {},
   "outputs": [],
   "source": [
    "# Poszukiwanie krewnych pana Ware\n",
    "df[df['surname']=='Ware']"
   ]
  },
  {
   "cell_type": "code",
   "execution_count": null,
   "metadata": {},
   "outputs": [],
   "source": [
    "# Poszukiwanie krewnych panny Andersen-Jensen\n",
    "df[df['surname'].str.contains('Jensen', case=False, na=False)]"
   ]
  },
  {
   "cell_type": "code",
   "execution_count": null,
   "metadata": {},
   "outputs": [],
   "source": [
    "# Poszukiwanie krewnych panny Bourke\n",
    "df[df['surname']=='Bourke']"
   ]
  },
  {
   "cell_type": "code",
   "execution_count": null,
   "metadata": {
    "scrolled": true
   },
   "outputs": [],
   "source": [
    "# Poszukiwanie krewnych pana Davies\n",
    "df[df['surname']=='Davies']"
   ]
  },
  {
   "cell_type": "code",
   "execution_count": null,
   "metadata": {},
   "outputs": [],
   "source": [
    "# Poszukiwanie krewnych pana Hansen\n",
    "df[df['surname']=='Hansen']"
   ]
  },
  {
   "cell_type": "code",
   "execution_count": null,
   "metadata": {},
   "outputs": [],
   "source": [
    "# Poszukiwanie krewnych pana Klasen\n",
    "df[df['surname']=='Klasen']"
   ]
  },
  {
   "cell_type": "code",
   "execution_count": null,
   "metadata": {},
   "outputs": [],
   "source": [
    "# Poszukiwanie krewnych pana Lindqvist\n",
    "df[df['name'].str.contains('Lindqvist', case=False, na=False)]"
   ]
  },
  {
   "cell_type": "code",
   "execution_count": null,
   "metadata": {},
   "outputs": [],
   "source": [
    "# Sprawdzenie spokrewnionej pani Hirvonen\n",
    "df[df['surname']=='Hirvonen']"
   ]
  },
  {
   "cell_type": "code",
   "execution_count": null,
   "metadata": {},
   "outputs": [],
   "source": [
    "# Poszukiwanie krewnych pana Persson\n",
    "df[df['surname']=='Persson']"
   ]
  },
  {
   "cell_type": "code",
   "execution_count": null,
   "metadata": {},
   "outputs": [],
   "source": [
    "# Dalsze poszukiwanie krewnych pana Persson\n",
    "df[df['maiden_n']=='Persson']"
   ]
  },
  {
   "cell_type": "code",
   "execution_count": null,
   "metadata": {},
   "outputs": [],
   "source": [
    "# Sprawdzenie rodziny pani Lindell, z domu Persson (raczej nie jest spokrewniona z panem Persson)\n",
    "df[df['fam'].str.contains('Lindell_349910', case=False, na=False)]"
   ]
  },
  {
   "cell_type": "code",
   "execution_count": null,
   "metadata": {
    "scrolled": true
   },
   "outputs": [],
   "source": [
    "# Sprawdzenie rodziny pani Lindell, z domu Strom (raczej jest spokrewniona z panem Persson)\n",
    "df[df['fam'].str.contains('Strom_347054', case=False, na=False)]"
   ]
  },
  {
   "cell_type": "code",
   "execution_count": null,
   "metadata": {
    "scrolled": true
   },
   "outputs": [],
   "source": [
    "# Poszukiwanie krewnych pana Thomas\n",
    "df[df['surname']=='Thomas']"
   ]
  },
  {
   "cell_type": "code",
   "execution_count": 15,
   "metadata": {},
   "outputs": [],
   "source": [
    "# W KOLUMNIE \"fam\" dołączanie pasażerów, którzy kupili pojedyncze bilety do ich rodzin\n",
    "df['fam'] = df['fam'].replace(\n",
    "    {'Appleton_11769': 'Brown_11769',\n",
    "     'Cornell_11770' : 'Brown_11769',\n",
    "     'Crosby_112901' : 'Crosby_WE/P 5735',\n",
    "     'Duff Gordon_11755' : 'Duff Gordon_PC 17485',\n",
    "     'Frauenthal_17765' : 'Frauenthal_PC 17611',\n",
    "     'Frolicher_13568' : 'Frolicher-Stehli_13567',\n",
    "     'Newsom_11752' : 'Beckwith_11751',\n",
    "     'Hocking_29104' : 'Hocking_29105',\n",
    "     'Wilkes_363272' : 'Hocking_29105',\n",
    "     'Silven_250652' : 'Lahtinen_250651',\n",
    "     'Ware_28666' : 'Ware_CA 31352',\n",
    "     'Jensen_350048' : 'Andersen-Jensen_350046',\n",
    "     'Bourke_364848' : 'Bourke_364849',\n",
    "     'Davies_A/4 48873' : 'Davies_A/4 48871',\n",
    "     'Hansen_350025' : 'Hansen_350026',\n",
    "     'Klasen_350404' : 'Klasen_350405',\n",
    "     'Lindqvist_STON/O 2. 3101285' : 'Hirvonen_3101298',\n",
    "     'Persson_347083' : 'Strom_347054',\n",
    "     'Thomas_2621' : 'Thomas_2625',\n",
    "     'Wiklund_3101267' : 'Wiklund_3101266'\n",
    "    })"
   ]
  },
  {
   "cell_type": "code",
   "execution_count": null,
   "metadata": {},
   "outputs": [],
   "source": [
    "# Utworzenie df zawierającego bilety grupowe osób spokrewnionych o różnych nazwiskach\n",
    "fam_df = df[(df['sibsp'] > 0) | (df['parch'] > 0)]\n",
    "group_ticket_df = fam_df[fam_df.groupby('ticket')['fam'].transform(lambda x: x.nunique()) > 1]\n",
    "group_ticket_df.sort_values(by='ticket')"
   ]
  },
  {
   "cell_type": "code",
   "execution_count": null,
   "metadata": {},
   "outputs": [],
   "source": [
    "# Poszukiwanie krewnych pani Douglas\n",
    "df[df['surname']=='Douglas']"
   ]
  },
  {
   "cell_type": "code",
   "execution_count": 16,
   "metadata": {},
   "outputs": [],
   "source": [
    "# W KOLUMNIE \"fam\" połączenie pasażerów, którzy kupili grupowe bilety i są spokrewnieni, ale mają różne nazwiska\n",
    "df['fam'] = df['fam'].replace(\n",
    "    {'Chibnall_113505' : 'Bowerman_113505',\n",
    "     'Earnshaw_11767' : 'Potter_11767',\n",
    "     'Schabert_13236' : 'Mock_13236',\n",
    "     'Hogeboom_13502' : 'Andrews_13502',\n",
    "     'Shelley_230433' : 'Parrish_230433',\n",
    "     'Madill_24160' : 'Robert_24160',\n",
    "     'Stephenson_36947' : 'Eustis_36947',\n",
    "     'Nicholls_C.A. 33112' : 'Davies_C.A. 33112',\n",
    "     'Douglas_PC 17558' : 'Douglas_PC 17761'\n",
    "    })"
   ]
  },
  {
   "cell_type": "code",
   "execution_count": null,
   "metadata": {},
   "outputs": [],
   "source": [
    "# Sprawdzenie krewnych państwa Vander Planke\n",
    "df[df['surname']=='Vander Planke']"
   ]
  },
  {
   "cell_type": "code",
   "execution_count": 17,
   "metadata": {},
   "outputs": [],
   "source": [
    "# W KOLUMNIE \"fam\" połączenie członków rodziny Vander Planke\n",
    "df['fam'] = df['fam'].replace(\n",
    "    {'Vander Planke_345764' : 'Vander Planke_345763'})"
   ]
  },
  {
   "cell_type": "code",
   "execution_count": null,
   "metadata": {},
   "outputs": [],
   "source": [
    "# Sprawdzenie pasażerów, których krewnych nie udało się zidentyfikować\n",
    "fam_df = df[(df['sibsp'] > 0) | (df['parch'] > 0)]\n",
    "fam_df[fam_df['fam'].duplicated(keep=False) == False]"
   ]
  },
  {
   "cell_type": "code",
   "execution_count": 18,
   "metadata": {},
   "outputs": [],
   "source": [
    "# W KOLUMNIE \"fam\" usunięcie informacji o przynależności do rodzin pasażerów, których krewnych nie udało się zidentyfikować\n",
    "df['fam'] = df['fam'].replace(\n",
    "    {'Natsch_PC 17596' : '',\n",
    "     'Hiltunen_250650' : '',\n",
    "     'Ahlin_7546' : '',\n",
    "     'Petterson_347076' : ''\n",
    "    })"
   ]
  },
  {
   "cell_type": "code",
   "execution_count": 19,
   "metadata": {},
   "outputs": [],
   "source": [
    "# PRZETWARZANIE KOLUMNY \"fam\" w celu uzyskania nazwy rodziny w formacie nazwisko i numer\n",
    "# Utworzenie dodatkowej kolumny roboczej \"temp\"\n",
    "df.insert(9, 'temp',\"\")\n",
    "# Przeniesienie drugiej części zmiennej z kolumny \"fam\" do \"temp\"\n",
    "df['temp'] = df['fam'].str.split('_').str[1]\n",
    "# Pozostawienie w kolumnie \"fam\" samego nazwiska rodziny\n",
    "df['fam'] = df['fam'].str.split('_').str[0]\n",
    "# Grupowanie i zamiana stringów na numery\n",
    "df['temp'] = df.groupby('fam')['temp'].transform(lambda x: pd.Categorical(x).codes + 1)\n",
    "# Zamiana zmiennych float na int a potem na str w kolumnie \"temp\"\n",
    "df['temp'] = df['temp'].apply(lambda x: str(int(x)) if isinstance(x, float) and not pd.isna(x) else str(x))\n",
    "# Dołączanie \"numeru\" do nazwiska rodziny, jeżeli było więcej niż jedna rodzina o tym samym nazwisku\n",
    "df['fam'] = df.apply(lambda row: f\"{row['fam']} ({row['temp']})\" if row['fam'] != \"\" else row['fam'], axis=1)\n",
    "# Usunięcie kolumny tymczasowej \"temp\"\n",
    "df.drop('temp', axis=1, inplace=True)"
   ]
  },
  {
   "cell_type": "code",
   "execution_count": null,
   "metadata": {},
   "outputs": [],
   "source": [
    "# Analiza wprowadzonej kolumny \"fam\"\n",
    "# Sprawdzenie liczby rodzin wśród pasażerów\n",
    "df['fam'].nunique()"
   ]
  },
  {
   "cell_type": "code",
   "execution_count": null,
   "metadata": {},
   "outputs": [],
   "source": [
    "# Sprawdzenie liczby osób w najliczniejszych rodzinach\n",
    "fam_df = df[\"fam\"].value_counts().reset_index().sort_values(by='fam', ascending=False)\n",
    "fam_df.drop(0, inplace=True)\n",
    "fam_df[:9]"
   ]
  },
  {
   "cell_type": "code",
   "execution_count": null,
   "metadata": {},
   "outputs": [],
   "source": [
    "# Sprawdzenie liczby rodzin o różnej liczebności członków\n",
    "fam_df['fam'].value_counts().reset_index()"
   ]
  },
  {
   "cell_type": "code",
   "execution_count": null,
   "metadata": {},
   "outputs": [],
   "source": [
    "# Sprawdzenie liczby rodzin z osobami poniżej 18 r.ż.\n",
    "df.groupby('fam').apply(lambda g: (g['age'] < 18).any()).sum()"
   ]
  },
  {
   "cell_type": "code",
   "execution_count": null,
   "metadata": {},
   "outputs": [],
   "source": []
  },
  {
   "cell_type": "markdown",
   "metadata": {},
   "source": [
    "#### Wnioski cz. 3\n",
    "* na statku były 194 rodziny\n",
    "* najliczniejsze rodziny, to Państwo Sage (11 osób), Goodwin (8 osób), Andersson i Asplund  (po 7 osób), Rice, Panula, Skoog i Fortune (po 6 osób)\n",
    "* 116 rodzin było 2-osobowych, 54 3-osobowe, 11 4-osobowych, po cztery rodziny 5-osobowe i 6-osobowe, dwie 7-osobowe i po jednej 8-osobowej i 11-osobowej\n",
    "* w 72 rodzinach były osoby w wieku poniżej 18 lat"
   ]
  },
  {
   "cell_type": "markdown",
   "metadata": {},
   "source": [
    "### 9. Ceny biletów"
   ]
  },
  {
   "cell_type": "code",
   "execution_count": null,
   "metadata": {},
   "outputs": [],
   "source": [
    "# Spradzenie ilości unikatowych cen biletów\n",
    "df['fare'].nunique()"
   ]
  },
  {
   "cell_type": "code",
   "execution_count": null,
   "metadata": {},
   "outputs": [],
   "source": [
    "# Sprawdzenie ceny najdroższego biletu\n",
    "df['fare'].max()"
   ]
  },
  {
   "cell_type": "code",
   "execution_count": null,
   "metadata": {},
   "outputs": [],
   "source": [
    "# Sprawdzenie ceny najtańszego biletu\n",
    "df['fare'].min()"
   ]
  },
  {
   "cell_type": "code",
   "execution_count": null,
   "metadata": {},
   "outputs": [],
   "source": [
    "# Sprawdzenie pasażerowó, którzy nie płacili za bilet\n",
    "df[df['fare'] == 0].reset_index()"
   ]
  },
  {
   "cell_type": "code",
   "execution_count": null,
   "metadata": {},
   "outputs": [],
   "source": [
    "# ZAOKRĄGKENIE CENY BILETÓW do dwóch miejsc po przecinku\n",
    "df['fare'] = df['fare'].apply(lambda x: round(x, 1) if pd.notna(x) else x)"
   ]
  },
  {
   "cell_type": "code",
   "execution_count": null,
   "metadata": {},
   "outputs": [],
   "source": [
    "# PRZETWARZANIE KOLUMNY \"fare\" w celu uzyskania opłaty za pasażera\n",
    "# Wstawienie nowej kolumny \"fare_pp\"\n",
    "df.insert(14, 'fare_pp',None)\n",
    "# Przeliczenie ceny biletu na każdego pasażera w zaokrągleniu do dwóch miejsc\n",
    "df['fare_pp'] = (df['fare']/df['uni_val']).round(1)"
   ]
  },
  {
   "cell_type": "code",
   "execution_count": null,
   "metadata": {},
   "outputs": [],
   "source": [
    "# Sprawdzenie wyliczonych cen biletów za pasażera\n",
    "df['fare_pp'].describe()"
   ]
  },
  {
   "cell_type": "code",
   "execution_count": null,
   "metadata": {},
   "outputs": [],
   "source": [
    "# Sprawdzenie pasażerów z najdroższym biletem (zarówno jednostkowo, jak i za osobę)\n",
    "df[df['fare_pp'] == df['fare_pp'].max()]"
   ]
  },
  {
   "cell_type": "code",
   "execution_count": null,
   "metadata": {},
   "outputs": [],
   "source": [
    "# Utworzenie df z danymi o klasach biletów i cenach za osobę\n",
    "box_df = df[['pclass', 'fare_pp']]\n",
    "box_df.columns = ['klasa biletu', 'cena']"
   ]
  },
  {
   "cell_type": "code",
   "execution_count": null,
   "metadata": {},
   "outputs": [],
   "source": [
    "# Generowanie wykresu boxplot pokazującego rozkład cen za osobę biletów wszystkich trzech klas\n",
    "box_df.boxplot(column='cena', by=\"klasa biletu\", vert=False, grid=True)\n",
    "plt.suptitle('')\n",
    "plt.title('Porównanie cen za osobę biletów pierwszej, drugiej i trzeciej klasy')\n",
    "plt.show()"
   ]
  },
  {
   "cell_type": "code",
   "execution_count": null,
   "metadata": {},
   "outputs": [],
   "source": [
    "# Generowanie wykresu boxplot pokazującego rozkład cen za osobę biletów tylko drugiej i trzeciej klasy\n",
    "box2_3_df = box_df[(box_df['klasa biletu'] == 2) + (box_df['klasa biletu'] == 3)].boxplot(column='cena', by=\"klasa biletu\", vert=False, grid=True)\n",
    "plt.suptitle('')\n",
    "plt.title('Porównanie cen za osobę biletów drugiej i trzeciej klasy')\n",
    "plt.show()"
   ]
  },
  {
   "cell_type": "code",
   "execution_count": null,
   "metadata": {},
   "outputs": [],
   "source": [
    "# Ogólna analiza statystyczna cen biletów klasy pierwszej\n",
    "box_df[box_df['klasa biletu'] == 1].describe()"
   ]
  },
  {
   "cell_type": "code",
   "execution_count": null,
   "metadata": {},
   "outputs": [],
   "source": [
    "# Ogólna analiza statystyczna cen biletów klasy drugiej\n",
    "box_df[box_df['klasa biletu'] == 2].describe()"
   ]
  },
  {
   "cell_type": "code",
   "execution_count": null,
   "metadata": {},
   "outputs": [],
   "source": [
    "# Ogólna analiza statystyczna cen biletów klasy trzeciej\n",
    "box_df[box_df['klasa biletu'] == 3].describe()"
   ]
  },
  {
   "cell_type": "markdown",
   "metadata": {},
   "source": [
    "#### Wnioski \n",
    "* ceny biletów miały 281 unikatowych wartości\n",
    "* najdroższy bilet kosztował 512,33 i został zakupiony przez rodzinę Cardeza dla 4 osób (co daje również najwyższą cenę za osobę)\n",
    "* najtańszy bilet nic nie kosztował i takie bilety (wszystkich trzech klas) otrzymało 17 osób\n",
    "* cena biletu za osobę wynosiła od 0 do 128, ze średnią 14,75 i medianą 8,05\n",
    "* rozkład cen za osobę  wykazuje liczne wartości skrajne jedynie w klasie 3\n",
    "* w klasie pierwszej podróżowały 323 osoby średnio za 33,91 z medianą 29,7\n",
    "* w klasie drugiej podróżowało 277 osób średnio za 11,41 z medianą 12,35\n",
    "* w klasie trzeciej podróżowało 708 osób średnio za 7,33 z medianą 7,75\n",
    "* bilety pierwszej klasy były około 3 razy droższe niż drugiej klasy i ponad 4 razy droższe od trzeciej klasy\n",
    "* bilety drugiej klasy były o około 50% droższe od trzeciej klasy"
   ]
  },
  {
   "cell_type": "markdown",
   "metadata": {},
   "source": [
    "### 10. Numery kabiny"
   ]
  },
  {
   "cell_type": "code",
   "execution_count": null,
   "metadata": {},
   "outputs": [],
   "source": [
    "# Sprawdzenie ilu pasażerów ma przypisane kabiny\n",
    "df['cabin'].notna().sum()"
   ]
  },
  {
   "cell_type": "code",
   "execution_count": null,
   "metadata": {},
   "outputs": [],
   "source": [
    "# Sprawdzenie do jakich klas biletów są przypisane kabiny\n",
    "df[df['cabin'].notna()].groupby('pclass').size().reset_index()"
   ]
  },
  {
   "cell_type": "code",
   "execution_count": null,
   "metadata": {},
   "outputs": [],
   "source": [
    "# Utworzenie df zawierającego tylko pasażerów z przypisanymi kabinami\n",
    "cab_df = df[df['cabin'].notna()]\n",
    "cab_df.sample(10)"
   ]
  },
  {
   "cell_type": "code",
   "execution_count": null,
   "metadata": {},
   "outputs": [],
   "source": [
    "# Sprawdzenie pasażerów z przypisanymi kabinami z biletami trzeciej klasy\n",
    "cab_df[cab_df['pclass'] == 3]"
   ]
  },
  {
   "cell_type": "code",
   "execution_count": null,
   "metadata": {},
   "outputs": [],
   "source": [
    "# Sprawdzenie pasażerów z przypisanymi kabinami z biletami drugiej klasy\n",
    "cab_df[cab_df['pclass'] == 2]"
   ]
  },
  {
   "cell_type": "markdown",
   "metadata": {},
   "source": [
    "#### Wnioski\n",
    "* jedynie 295 pazsażerów ma przypisane kabiny\n",
    "* kabiny są przypisane do 256 pasażerów z biletami pierwszej klasy, 23 z drugiej klasy i 16 z trzeciej klasy\n",
    "* oznaczenie kabiny skałada się z dużej litery alfabetu i dołączonej liczby, pierwsze litery alfabetu i niższe liczby świadczą zwykle o wyższej klasie biletu\n",
    "* niektórzy pasażerowie z biletami pierwszej klasy mają przypisanych kilka kabin"
   ]
  },
  {
   "cell_type": "markdown",
   "metadata": {},
   "source": [
    "### 11. Port początkowy"
   ]
  },
  {
   "cell_type": "code",
   "execution_count": null,
   "metadata": {},
   "outputs": [],
   "source": [
    "# Sprawdzenie ilu pasażerów ma przypisany port początkowy\n",
    "df['embarked'].notna().sum()"
   ]
  },
  {
   "cell_type": "code",
   "execution_count": null,
   "metadata": {},
   "outputs": [],
   "source": [
    "# Sprawdzenie ilu pasażerów wsiadało w których portach\n",
    "df[df['embarked'].notna()].groupby('embarked').size().reset_index()"
   ]
  },
  {
   "cell_type": "code",
   "execution_count": null,
   "metadata": {},
   "outputs": [],
   "source": [
    "# Sprawdzenie w którym porcie weszło na pokład ilu pasażerów każdej klasy biletów\n",
    "emb_df= df.groupby(['embarked', 'pclass']).size().reset_index()\n",
    "emb_df.columns = ['porty', 'klasa biletu', 'liczba']\n",
    "stack_df = emb_df.pivot(index='porty', columns='klasa biletu', values='liczba')\n",
    "stack_df"
   ]
  },
  {
   "cell_type": "code",
   "execution_count": null,
   "metadata": {},
   "outputs": [],
   "source": [
    "# Generowanie wykresu pokazującego, w którym porcie weszło na pokład ilu pasażerów każdej klasy biletów\n",
    "ax = stack_df.plot(kind='bar', stacked=True)\n",
    "plt.title('Zaokrętowanie pasażerów różnych klas w portach')\n",
    "plt.ylabel('Liczba pasażerów')\n",
    "plt.xticks(rotation=0)\n",
    "ax.set_xticklabels(['Cherbourg','Queenstown','Southampton'])\n",
    "plt.show()"
   ]
  },
  {
   "cell_type": "markdown",
   "metadata": {},
   "source": [
    "#### Wnioski\n",
    "* znamy port zaokrętowania 1307 pasażerów\n",
    "* najwięcej pasażerów weszło na pokład w Southampton - 914, najmniej w Queenstown - 123, a w Cherbourg - 270\n",
    "* pasażerowie z biletami pierwszej klasy weszli na pokład głównie w Cherbourg i w Southampton\n",
    "* w Queenstown zaokrętowali w zasadzie jedynie pasażerowie trzeciej klasy\n",
    "* w Southampton zaokrętowali głównie pasażerowie drugiej i trzeciej klasy"
   ]
  },
  {
   "cell_type": "markdown",
   "metadata": {},
   "source": [
    "### 12. Łodzie ratunkowe"
   ]
  },
  {
   "cell_type": "code",
   "execution_count": null,
   "metadata": {},
   "outputs": [],
   "source": [
    "# Sprawdzenie ilu pasażerów ma przypisane łodzie ratunkowe\n",
    "df['boat'].notna().sum()"
   ]
  },
  {
   "cell_type": "code",
   "execution_count": null,
   "metadata": {},
   "outputs": [],
   "source": [
    "# Spradzenie ilości unikatowych oznaczeń łodzi ratunkowych\n",
    "df['boat'].nunique()"
   ]
  },
  {
   "cell_type": "code",
   "execution_count": null,
   "metadata": {},
   "outputs": [],
   "source": [
    "# Sprawdzenie jakie są unikatowe oznaczenia łodzi ratunkowych\n",
    "df['boat'].unique()"
   ]
  },
  {
   "cell_type": "code",
   "execution_count": null,
   "metadata": {},
   "outputs": [],
   "source": [
    "# Sprawdzenie pasażerów, którzy mają przypisana więcej, niż jedną łódź ratunkową\n",
    "df[df['boat'].str.contains(' ', case=False, na=False)]"
   ]
  },
  {
   "cell_type": "code",
   "execution_count": null,
   "metadata": {},
   "outputs": [],
   "source": [
    "# ZMIANA OZNACZENIA ŁODZI - zostawiam oznaczenie ostatniej łodzi\n",
    "df['boat'] = df['boat'].apply(lambda x: x.rsplit(' ', 1)[-1] if isinstance(x, str) and ' ' in x else x)"
   ]
  },
  {
   "cell_type": "code",
   "execution_count": null,
   "metadata": {},
   "outputs": [],
   "source": [
    "# Sprawdzenie ilości unikatowych oznaczeń łodzi ratunkowych po wprowadzeniu zmian\n",
    "df['boat'].nunique()"
   ]
  },
  {
   "cell_type": "code",
   "execution_count": null,
   "metadata": {},
   "outputs": [],
   "source": [
    "# Utworzenie df z pogrupowanymi danymi o łodziach ratunkowych\n",
    "boat_df = df.groupby('boat').size().reset_index()\n",
    "# Ogólna analiza statystyczna danych o łodziach ratunkowych\n",
    "boat_df.describe()"
   ]
  },
  {
   "cell_type": "code",
   "execution_count": null,
   "metadata": {},
   "outputs": [],
   "source": [
    "# Utworzenie df z pogrupowanymi łodziami i klasami biletów pasażerów\n",
    "boat_class_df = df.groupby(['boat', 'pclass']).size().reset_index()\n",
    "# Dodanie do pojedynczych numerów łodzi \"0\" w celu ułatwienia sortowania\n",
    "boat_class_df['boat'] = boat_class_df['boat'].apply(lambda x: x.zfill(2) if x.isdigit() else x)\n",
    "# Sortowanie danych według poprawionych oznaczeń łodzi\n",
    "boat_class_df = boat_class_df.sort_values(by='boat')\n",
    "# Zmiana nazw kolumn\n",
    "boat_class_df.columns = ['Łódź', 'klasa biletu', 'liczba']"
   ]
  },
  {
   "cell_type": "code",
   "execution_count": null,
   "metadata": {},
   "outputs": [],
   "source": [
    "# Utworzenie df do wykresu kolumnowego ze stakowaniem\n",
    "class_stack_df = boat_class_df.pivot(index='Łódź', columns='klasa biletu', values='liczba')\n",
    "# Wypełnienie pustych miejsc w df wartościami \"0\"\n",
    "class_stack_df = class_stack_df.fillna(0)"
   ]
  },
  {
   "cell_type": "code",
   "execution_count": null,
   "metadata": {},
   "outputs": [],
   "source": [
    "# Generowanie wykresu pokazującego \n",
    "ax = class_stack_df.plot(kind='bar', stacked=True)\n",
    "plt.title('Pasażerowie różnych klas w łodziach ratunkowych')\n",
    "plt.ylabel('Liczba pasażerów')\n",
    "plt.xticks(rotation=0)\n",
    "plt.show()"
   ]
  },
  {
   "cell_type": "code",
   "execution_count": null,
   "metadata": {},
   "outputs": [],
   "source": [
    "# Utworzenie df z pogrupowanymi łodziami i płcią  pasażerów\n",
    "boat_sex_df = df.groupby(['boat', 'sex']).size().reset_index()\n",
    "# Dodanie do pojedynczych numerów łodzi \"0\" w celu ułatwienia sortowania\n",
    "boat_sex_df['boat'] = boat_sex_df['boat'].apply(lambda x: x.zfill(2) if x.isdigit() else x)\n",
    "# Sortowanie danych według poprawionych oznaczeń łodzi\n",
    "boat_sex_df = boat_sex_df.sort_values(by='boat')\n",
    "# Zmiana nazw kolumn\n",
    "boat_sex_df.columns = ['Łódź', 'Płeć', 'liczba']"
   ]
  },
  {
   "cell_type": "code",
   "execution_count": null,
   "metadata": {},
   "outputs": [],
   "source": [
    "# Utworzenie df do wykresu kolumnowego ze stakowaniem\n",
    "sex_stack_df = boat_sex_df.pivot(index='Łódź', columns='Płeć', values='liczba')\n",
    "# Wypełnienie pustych miejsc w df wartościami \"0\"\n",
    "sex_stack_df = sex_stack_df.fillna(0)"
   ]
  },
  {
   "cell_type": "code",
   "execution_count": null,
   "metadata": {},
   "outputs": [],
   "source": [
    "# Generowanie wykresu pokazującego ilość pasażerów róznej płci w łodziach ratunkowych\n",
    "ax = sex_stack_df.plot(kind='bar', stacked=True)\n",
    "plt.title('Pasażerowie różnej płci w łodziach ratunkowych')\n",
    "plt.ylabel('Liczba pasażerów')\n",
    "plt.xticks(rotation=0)\n",
    "ax.legend(['kobiety','mężczyźni'])\n",
    "plt.show()"
   ]
  },
  {
   "cell_type": "code",
   "execution_count": null,
   "metadata": {},
   "outputs": [],
   "source": [
    "# Utworzenie df z pogrupowanymi łodziami i podziałem na dzieci i dorosłych\n",
    "boat_age_df = df.groupby(['boat', 'age_group']).size().reset_index()\n",
    "# Dodanie do pojedynczych numerów łodzi \"0\" w celu ułatwienia sortowania\n",
    "boat_age_df['boat'] = boat_age_df['boat'].apply(lambda x: x.zfill(2) if x.isdigit() else x)\n",
    "# Sortowanie danych według poprawionych oznaczeń łodzi\n",
    "boat_age_df = boat_age_df.sort_values(by='boat')\n",
    "# Zmiana nazw kolumn\n",
    "boat_age_df.columns = ['Łódź', 'Wiek', 'liczba']"
   ]
  },
  {
   "cell_type": "code",
   "execution_count": null,
   "metadata": {},
   "outputs": [],
   "source": [
    "# Utworzenie df do wykresu kolumnowego ze stakowaniem\n",
    "age_stack_df = boat_age_df.pivot(index='Łódź', columns='Wiek', values='liczba')\n",
    "# Wypełnienie pustych miejsc w df wartościami \"0\"\n",
    "age_stack_df = age_stack_df.fillna(0)"
   ]
  },
  {
   "cell_type": "code",
   "execution_count": null,
   "metadata": {},
   "outputs": [],
   "source": [
    "# Generowanie wykresu pokazującego ilość dorosłych i dzieci w łodziach ratunkowych\n",
    "ax = age_stack_df.plot(kind='bar', stacked=True)\n",
    "plt.title('Dorośli i dzieci w łodziach ratunkowych')\n",
    "plt.ylabel('Liczba pasażerów')\n",
    "plt.xticks(rotation=0)\n",
    "ax.legend(['dorośli','dzieci'])\n",
    "plt.show()"
   ]
  },
  {
   "cell_type": "markdown",
   "metadata": {},
   "source": [
    "#### Wnioski\n",
    "* 486 pasażerów ma przypisane miejsca w łodziach ratunkowych\n",
    "* łodzi ratunkowych było 20, 16 opisanych kolejnymi numerami od 1 do 16 i 4 oznaczone dużymi litarami od A do D\n",
    "* w łodziach znajdowało się od 5 do 39 pasażerów, średnio 24,3 pasażera, mediana wynosiła 25\n",
    "* łodzie o numerach od 1 do 8 zajmowali głównie pasażerowie pierwszej klasy\n",
    "* wiekszość pasażerów drugiej klasy zajmowało łodzie o numerach od 9 do 14\n",
    "* pasażerowie trzeciej klasy zajmowali łodzie numer 13, 15 i 16 oraz te oznaczone litarami alfabetu\n",
    "* w większości łodzi kobiety stanowiły ponad połowę pasażerów\n",
    "* w łodzi numer 8 były same kobiety a w łodzi B sami mężczyźni\n",
    "* w wiekszości łodzi znajdowały się dzieci"
   ]
  },
  {
   "cell_type": "markdown",
   "metadata": {},
   "source": [
    "### 13. Ciała pasażerów"
   ]
  },
  {
   "cell_type": "code",
   "execution_count": null,
   "metadata": {},
   "outputs": [],
   "source": [
    "# Sprawdzenie ile odnaleziono ciał pasażerów\n",
    "df['body'].notna().sum()"
   ]
  },
  {
   "cell_type": "code",
   "execution_count": null,
   "metadata": {},
   "outputs": [],
   "source": [
    "# Spradzenie czy numery ciał nie powtarzają się\n",
    "df['body'].nunique() == df['body'].notna().sum()"
   ]
  },
  {
   "cell_type": "code",
   "execution_count": null,
   "metadata": {},
   "outputs": [],
   "source": [
    "# Utworzenie df zawierającego tylko dane pasażerów, których ciała zostały odnalezione\n",
    "body_df = df[df['body'].notna()]"
   ]
  },
  {
   "cell_type": "code",
   "execution_count": null,
   "metadata": {},
   "outputs": [],
   "source": [
    "# Sprawdzenie ile było dzieci wśród pasażerów, których ciała odnaleziono\n",
    "(body_df['age'] < 18).sum()"
   ]
  },
  {
   "cell_type": "code",
   "execution_count": null,
   "metadata": {},
   "outputs": [],
   "source": [
    "# Sprawdzenie ile było kobiet wśród pasażerów, których ciała odnaleziono\n",
    "(body_df['sex'] == \"female\").sum()"
   ]
  },
  {
   "cell_type": "code",
   "execution_count": null,
   "metadata": {},
   "outputs": [],
   "source": [
    "# Utworzenie df zawierającego tylko dane pasażerów, którzy zginęli\n",
    "dead_df = df[df['survived'] == 0]"
   ]
  },
  {
   "cell_type": "code",
   "execution_count": null,
   "metadata": {},
   "outputs": [],
   "source": [
    "# Generowanie wykresu kołowego pokazującego ile odnaleziono ciał ofiar\n",
    "dead_pie_df = dead_df.groupby(df['body'].notna()).size().reset_index()\n",
    "dead_pie_df.columns=['ciała', 'liczba pasażerów']\n",
    "dead_pie_df['ciała'].replace({False : \"zaginione\", True :\"odnalezione\"}, inplace=True)\n",
    "dead_pie_df"
   ]
  },
  {
   "cell_type": "code",
   "execution_count": null,
   "metadata": {},
   "outputs": [],
   "source": [
    "# Generowanie wykresu kołowego pokazującego ilość zaginionych i odnalezionych ciał pasażerów\n",
    "ax = dead_pie_df.plot.pie(y='liczba pasażerów', labels=dead_pie_df['ciała'], autopct='%1.1f%%', legend=False, colors=[\"r\", \"g\"])\n",
    "plt.title('Ciała ofiar katastrofy')\n",
    "ax.set_ylabel('')\n",
    "plt.show()  "
   ]
  },
  {
   "cell_type": "markdown",
   "metadata": {},
   "source": [
    "#### Wnioski\n",
    "* odnaleziono i ponumerowano ciała 121 ofiar katastrofy\n",
    "* wśród odnalezionych ciał było 8 kobiet i pięcioro dzieci\n",
    "* odnaleziono ciała 15% wszystkich ofiar, ciała 688 ofiar nie zostały odnalezione"
   ]
  },
  {
   "cell_type": "markdown",
   "metadata": {},
   "source": [
    "### 14. Miejsca docelowe"
   ]
  },
  {
   "cell_type": "code",
   "execution_count": null,
   "metadata": {},
   "outputs": [],
   "source": [
    "# Sprawdzenie ilu pasażerów miało podane miejsce docelowe\n",
    "df['home.dest'].notna().sum()"
   ]
  },
  {
   "cell_type": "code",
   "execution_count": null,
   "metadata": {},
   "outputs": [],
   "source": [
    "# Sprawdzenie ile było unikatowych miejsc docelowych\n",
    "df['home.dest'].nunique()"
   ]
  },
  {
   "cell_type": "code",
   "execution_count": null,
   "metadata": {},
   "outputs": [],
   "source": [
    "# Sprawdzenie częstości wystepowania miejsc docelowych\n",
    "df['home.dest'].value_counts().reset_index().head()"
   ]
  },
  {
   "cell_type": "markdown",
   "metadata": {},
   "source": [
    "#### Wnioski\n",
    "* 745 pasażerów miało podane miejsce docelowe\n",
    "* unikatowych miejsc docelowych było 369\n",
    "* najczęstszymi miejscami docelowymi był \"New York, NY\" - 64 osoby, \"London\" - 14 osób i \"Montreal, PQ\" - 10 osób"
   ]
  },
  {
   "cell_type": "markdown",
   "metadata": {},
   "source": [
    "## D. Analiza relacji między zmiennymi - pytania"
   ]
  },
  {
   "cell_type": "markdown",
   "metadata": {},
   "source": [
    "### 1. Czy hasło \"ratujemy najpierw kobiety i dzieci\" zadziałało?"
   ]
  },
  {
   "cell_type": "code",
   "execution_count": null,
   "metadata": {},
   "outputs": [],
   "source": [
    "# Zebranie danych dotyczących płci i przeżywalności\n",
    "dead_sex_df = df.groupby(['sex', 'survived']).size().reset_index(name='liczba')\n",
    "dead_sex_df = dead_sex_df.rename(columns={'sex' : 'płeć'})\n",
    "# Dodanie kolumny z wyliczeniem wartości procentowej\n",
    "dead_sex_df['procent'] = dead_sex_df.groupby('płeć')['liczba'].transform(lambda x: 100 * x / x.sum()).round(1)\n",
    "dead_sex_df"
   ]
  },
  {
   "cell_type": "code",
   "execution_count": null,
   "metadata": {},
   "outputs": [],
   "source": [
    "# Przygotowanie danych dla wykresu pokazującego przeżywalność kobiet i mężczyzn\n",
    "dead_sex_stack_df = dead_sex_df.pivot(index='płeć', columns='survived', values='liczba')\n",
    "dead_sex_stack_df"
   ]
  },
  {
   "cell_type": "code",
   "execution_count": null,
   "metadata": {},
   "outputs": [],
   "source": [
    "# Generowanie wykresu pokazującego przeżywalność kobiet i mężczyzn\n",
    "dead_sex_stack_df = dead_sex_df.pivot(index='płeć', columns='survived', values='liczba')\n",
    "ax = dead_sex_stack_df.plot(kind='bar', stacked=True, color=['b', 'green'])\n",
    "plt.title('Przeżywalność pasażerów w zależności od płci')\n",
    "plt.ylabel('Liczba pasażerów')\n",
    "plt.xticks(rotation=0)\n",
    "ax.set_xticklabels(['kobiety', 'mężczyźni'])\n",
    "ax.legend(['zginęli','przeżyli'])\n",
    "plt.show()"
   ]
  },
  {
   "cell_type": "markdown",
   "metadata": {},
   "source": [
    "#### Wnioski cz.1\n",
    "* katastrofę przeżyło 339 kobiet, co stanowi 72,7% wszystkich kobiet wśród pasażerów\n",
    "* katastrofę przeżyło jedynie 161 mężczyzn, co stanowi 19,1% wszystkich mężczyzn wśród pasażerów\n",
    "* biorąc pod uwagę wartości procentowe, katastrofę przeżyło prawie 4 razy więcej kobiet, niż mężczyzn"
   ]
  },
  {
   "cell_type": "code",
   "execution_count": null,
   "metadata": {},
   "outputs": [],
   "source": [
    "# Zebranie danych dotyczących grupy wiekowej i przeżywalności\n",
    "dead_age_df = df.groupby(['age_group', 'survived']).size().reset_index(name='liczba')\n",
    "dead_age_df = dead_age_df.rename(columns={'age_group' : 'grupa wiekowa'})\n",
    "# Dodanie kolumny z wyliczeniem wartości procentowej\n",
    "dead_age_df['procent'] = dead_age_df.groupby('grupa wiekowa')['liczba'].transform(lambda x: 100 * x / x.sum()).round(1)\n",
    "dead_age_df"
   ]
  },
  {
   "cell_type": "code",
   "execution_count": null,
   "metadata": {},
   "outputs": [],
   "source": [
    "# Przygotowanie danych dla wykresu pokazującego przeżywalność dorosłych i dzieci\n",
    "dead_age_stack_df = dead_age_df.pivot(index='grupa wiekowa', columns='survived', values='liczba')\n",
    "dead_age_stack_df"
   ]
  },
  {
   "cell_type": "code",
   "execution_count": null,
   "metadata": {},
   "outputs": [],
   "source": [
    "# Generowanie wykresu pokazującego przeżywalność dorosłych i dzieci\n",
    "dead_age_stack_df = dead_age_df.pivot(index='grupa wiekowa', columns='survived', values='liczba')\n",
    "ax = dead_age_stack_df.plot(kind='bar', stacked=True, color=['b', 'green'])\n",
    "plt.title('Przeżywalność pasażerów w zależności od grupy wiekowej')\n",
    "plt.ylabel('Liczba pasażerów')\n",
    "plt.xticks(rotation=0)\n",
    "ax.set_xticklabels(['dorośli', 'dzieci'])\n",
    "ax.legend(['zginęli','przeżyli'])\n",
    "plt.show()"
   ]
  },
  {
   "cell_type": "markdown",
   "metadata": {},
   "source": [
    "#### Wnioski cz.2\n",
    "* z pasażerów dorosłych, których znamy wiek (892 osób) przeżyło 346, czyli 38,8%\n",
    "* z dzieci, których znamy wiek (154 osoby) przeżyło 81, czyli 52,6%\n",
    "* biorąc pod uwagę wartości procentowe, dzieci przeżyło niewiele więcej niż pasażerów dorosłych "
   ]
  },
  {
   "cell_type": "markdown",
   "metadata": {},
   "source": [
    "### 2. Czy klasa biletu miała wpływ na przeżywalność?"
   ]
  },
  {
   "cell_type": "code",
   "execution_count": null,
   "metadata": {},
   "outputs": [],
   "source": [
    "# Zebranie danych dotyczących klas biletów i przeżywalności\n",
    "dead_pclass_df = df.groupby(['pclass', 'survived']).size().reset_index(name='liczba')\n",
    "dead_pclass_df = dead_pclass_df.rename(columns={'pclass' : 'klasa'})\n",
    "# Dodanie kolumny z wyliczeniem wartości procentowej\n",
    "dead_pclass_df['procent'] = dead_pclass_df.groupby('klasa')['liczba'].transform(lambda x: 100 * x / x.sum()).round(1)\n",
    "dead_pclass_df"
   ]
  },
  {
   "cell_type": "code",
   "execution_count": null,
   "metadata": {},
   "outputs": [],
   "source": [
    "# Przygotowanie danych dla wykresu pokazującego przeżywalność pasażerów z biletami różnych klas\n",
    "dead_pclass_pie_df = dead_pclass_df.pivot(index='klasa', columns='survived', values='liczba')\n",
    "dead_pclass_pie_df"
   ]
  },
  {
   "cell_type": "code",
   "execution_count": null,
   "metadata": {},
   "outputs": [],
   "source": [
    "# Generowanie wykresu pokazującego przeżywalność pasażerów z biletami różnych klas\n",
    "fig, axes = plt.subplots(1, 3, figsize=(10, 3.5))\n",
    "fig.suptitle('Przeżywalność pasażerów z biletami różnych klas', fontsize=14)\n",
    "# Iterowanie przez wiersze df\n",
    "for i, (index, row) in enumerate(dead_pclass_pie_df.iterrows()):\n",
    "    axes[i].pie(row, labels=['zginęli','przeżyli'], autopct='%1.1f%%', startangle=180)\n",
    "    axes[i].set_title(f'klasa biletu: {index}')\n",
    "    axes[i].axis('equal')\n",
    "# Dopasowanie wykresów, żeby się nie nachodziły\n",
    "plt.tight_layout()\n",
    "plt.show()"
   ]
  },
  {
   "cell_type": "markdown",
   "metadata": {},
   "source": [
    "#### Wnioski cz.1\n",
    "* z 323 pasażerów z biletami pierwszej klasy przeżyło 200, czyli 61,9%\n",
    "* z 277 pasażerów z biletami drugiej klasy przeżyło 119, czyli 43%\n",
    "* z 709 pasażerów z biletami trzeciej klasy przeżyło 181, czyli 25,5%\n",
    "* porównując wartości procentowe, pasażerów klasy pierwszej przeżyło o połowę więcej niż klasy drugiej i ponad dwa razy więcj, niż klasy trzeciej"
   ]
  },
  {
   "cell_type": "code",
   "execution_count": null,
   "metadata": {},
   "outputs": [],
   "source": [
    "# Utworzenie df zawierającego dane wyłącznie kobiet\n",
    "fem_df = df[df['sex'] == 'female']"
   ]
  },
  {
   "cell_type": "code",
   "execution_count": null,
   "metadata": {},
   "outputs": [],
   "source": [
    "# Zebranie danych dotyczących klas biletów i przeżywalności kobiet\n",
    "fem_dead_pclass_df = fem_df.groupby(['pclass', 'survived']).size().reset_index(name='liczba')\n",
    "fem_dead_pclass_df = fem_dead_pclass_df.rename(columns={'pclass' : 'klasa'})\n",
    "# Dodanie kolumny z wyliczeniem wartości procentowej\n",
    "fem_dead_pclass_df['procent'] = fem_dead_pclass_df.groupby('klasa')['liczba'].transform(lambda x: 100 * x / x.sum()).round(1)\n",
    "fem_dead_pclass_df"
   ]
  },
  {
   "cell_type": "code",
   "execution_count": null,
   "metadata": {},
   "outputs": [],
   "source": [
    "# Przygotowanie danych dla wykresu pokazującego przeżywalność kobiet z biletami różnych klas\n",
    "fem_dead_pclass_pie_df = fem_dead_pclass_df.pivot(index='klasa', columns='survived', values='liczba')\n",
    "fem_dead_pclass_pie_df"
   ]
  },
  {
   "cell_type": "code",
   "execution_count": null,
   "metadata": {},
   "outputs": [],
   "source": [
    "# Generowanie wykresu pokazującego przeżywalność kobiet z biletami różnych klas\n",
    "fig, axes = plt.subplots(1, 3, figsize=(10, 3.5))\n",
    "fig.suptitle('Przeżywalność kobiet z biletami różnych klas', fontsize=14)\n",
    "# Iterowanie przez wiersze df\n",
    "for i, (index, row) in enumerate(fem_dead_pclass_pie_df.iterrows()):\n",
    "    axes[i].pie(row, labels=['zginęły','przeżyły'], autopct='%1.1f%%', startangle=180)\n",
    "    axes[i].set_title(f'klasa biletu: {index}')\n",
    "    axes[i].axis('equal')\n",
    "# Dopasowanie wykresów, żeby się nie nachodziły\n",
    "plt.tight_layout()\n",
    "plt.show()"
   ]
  },
  {
   "cell_type": "markdown",
   "metadata": {},
   "source": [
    "#### Wnioski cz.2\n",
    "* ze 144 kobiet z biletami pierwszej klasy przeżyło 139, czyli 96,5% \n",
    "* ze 106 kobiet z biletami drugiej klasy przeżyły 94, czyli 88,7%\n",
    "* z 216 kobiet z biletami trzeciej klasy przeżyło 106, czyli 49,1%\n",
    "* kobiety z biletami klasy pierwszej i drugiej przeżyły prawie wszystkie\n",
    "* z kobiet z biletami klasy trzeciej przeżyło nieco mniej niż połowa"
   ]
  },
  {
   "cell_type": "code",
   "execution_count": null,
   "metadata": {},
   "outputs": [],
   "source": [
    "# Utworzenie df zawierającego dane wyłącznie dzieci\n",
    "child_df = df[df['age'] < 18]"
   ]
  },
  {
   "cell_type": "code",
   "execution_count": null,
   "metadata": {},
   "outputs": [],
   "source": [
    "# Zebranie danych dotyczących klas biletów i przeżywalności kobiet\n",
    "ch_dead_pclass_df = child_df.groupby(['pclass', 'survived']).size().reset_index(name='liczba')\n",
    "ch_dead_pclass_df = ch_dead_pclass_df.rename(columns={'pclass' : 'klasa'})\n",
    "# Dodanie kolumny z wyliczeniem wartości procentowej\n",
    "ch_dead_pclass_df['procent'] = ch_dead_pclass_df.groupby('klasa')['liczba'].transform(lambda x: 100 * x / x.sum()).round(1)\n",
    "ch_dead_pclass_df"
   ]
  },
  {
   "cell_type": "code",
   "execution_count": null,
   "metadata": {},
   "outputs": [],
   "source": [
    "# Przygotowanie danych dla wykresu pokazującego przeżywalność dzieci z biletami różnych klas\n",
    "ch_dead_pclass_pie_df = ch_dead_pclass_df.pivot(index='klasa', columns='survived', values='liczba')\n",
    "ch_dead_pclass_pie_df"
   ]
  },
  {
   "cell_type": "code",
   "execution_count": null,
   "metadata": {},
   "outputs": [],
   "source": [
    "# Generowanie wykresu pokazującego przeżywalność dzieci z biletami różnych klas\n",
    "fig, axes = plt.subplots(1, 3, figsize=(10, 3.5))\n",
    "fig.suptitle('Przeżywalność dzieci z biletami różnych klas', fontsize=14)\n",
    "# Iterowanie przez wiersze df\n",
    "for i, (index, row) in enumerate(ch_dead_pclass_pie_df.iterrows()):\n",
    "    axes[i].pie(row, labels=['zginęły','przeżyły'], autopct='%1.1f%%', startangle=180)\n",
    "    axes[i].set_title(f'klasa biletu: {index}')\n",
    "    axes[i].axis('equal')\n",
    "# Dopasowanie wykresów, żeby się nie nachodziły\n",
    "plt.tight_layout()\n",
    "plt.show()"
   ]
  },
  {
   "cell_type": "markdown",
   "metadata": {},
   "source": [
    "#### Wnioski cz.3\n",
    "* z 15 dzieci z biletami pierwszej klasy przeżyło 13, czyli 86,7% \n",
    "* z 33 dzieci z biletami drugiej klasy przeżyło 29, czyli 87,9%\n",
    "* ze 106 dzieci z biletami trzeciej klasy przeżyło tylko 39, czyli 36,8%\n",
    "* dzieci z biletami klasy pierwszej i drugiej przeżyły prawie wszystkie\n",
    "* z dzieci z biletami klasy trzeciej przeżyło nieco więcej niż 1/3"
   ]
  },
  {
   "cell_type": "markdown",
   "metadata": {},
   "source": [
    "### 3. Jak przeżywalność zależała od wieku pasażerów?"
   ]
  },
  {
   "cell_type": "code",
   "execution_count": null,
   "metadata": {},
   "outputs": [],
   "source": [
    "# Sprawdzenie procentowej przeżywalności pasażerów w 8 kolejnych grupach wiekowych\n",
    "age_surv_df = df.groupby(pd.cut(df['age'], bins=8, right=True)).apply(lambda x: x['survived'].value_counts(normalize=True).mul(100)).unstack(fill_value=0)\n",
    "# Przypisanie nowych indeksów\n",
    "age_surv_df.index = ['0-10', '10-20', '20-30', '30-40', '40-50', '50-60', '60-70', '70-80']\n",
    "age_surv_df"
   ]
  },
  {
   "cell_type": "code",
   "execution_count": null,
   "metadata": {},
   "outputs": [],
   "source": [
    "# Generowanie wykresu liniowego pokazującego przeżywalności pasażerów w 8 kolejnych grupach wiekowych\n",
    "age_surv_df[1].plot(kind='line')\n",
    "plt.xlabel('grupa wiekowa')\n",
    "plt.ylabel('procent')\n",
    "plt.title('Przeżywalności procentowa pasażerów w grupach wiekowych')\n",
    "plt.show()"
   ]
  },
  {
   "cell_type": "code",
   "execution_count": null,
   "metadata": {},
   "outputs": [],
   "source": [
    "# Sprawdzenie liczebności grup wiekowych\n",
    "df.groupby(pd.cut(df['age'], bins=8, right=True)).size().reset_index()"
   ]
  },
  {
   "cell_type": "markdown",
   "metadata": {},
   "source": [
    "#### Wnioski\n",
    "* najwiekszą przeżywalność miały dzieci w wieku do 10 lat - 58%\n",
    "* kolejne grupy wiekowe 10-60 lat miały podobną przeżywalność w zakresie 37-48% z niewielkim trendem wzrostowym\n",
    "* w grupach wiekowych 60-80 lat przeżywalność była bardzo niska 22-33%, jednak w grupie tej znajdowało się mało pasażerów (tylko 33)"
   ]
  },
  {
   "cell_type": "markdown",
   "metadata": {},
   "source": [
    "### 4. Czy rodziny spotkał taki sam los, co osoby niespokrewnione?"
   ]
  },
  {
   "cell_type": "code",
   "execution_count": null,
   "metadata": {},
   "outputs": [],
   "source": [
    "# Zebranie danych dotyczących obecności rodziny pasażera i przeżywalności\n",
    "fam_dead_df = df.groupby([df['fam'].apply(lambda x: 'samotni' if x == '' else 'spokrewnieni'), 'survived']).size().reset_index(name='liczba')\n",
    "fam_dead_df = fam_dead_df.rename(columns={'fam' : 'status'})\n",
    "# Dodanie kolumny z wyliczeniem wartości procentowej\n",
    "fam_dead_df['procent'] = fam_dead_df.groupby('status')['liczba'].transform(lambda x: 100 * x / x.sum()).round(1)\n",
    "fam_dead_df"
   ]
  },
  {
   "cell_type": "code",
   "execution_count": null,
   "metadata": {},
   "outputs": [],
   "source": [
    "# Przygotowanie danych dla wykresu pokazującego przeżywalność w zależności od statusu rodzinnego\n",
    "fam_dead_pie_df = fam_dead_df.pivot(index='status', columns='survived', values='liczba')\n",
    "fam_dead_pie_df"
   ]
  },
  {
   "cell_type": "code",
   "execution_count": null,
   "metadata": {},
   "outputs": [],
   "source": [
    "# Generowanie wykresu pokazującego przeżywalność w zależności od statusu rodzinnego\n",
    "fig, axes = plt.subplots(1, 2, figsize=(10, 3.5))\n",
    "fig.suptitle('Przeżywalność w zależności od statusu rodzinnego', fontsize=14)\n",
    "# Iterowanie przez wiersze df\n",
    "for i, (index, row) in enumerate(fam_dead_pie_df.iterrows()):\n",
    "    axes[i].pie(row, labels=['zginęli','przeżyli'], autopct='%1.1f%%', startangle=90)\n",
    "    axes[i].set_title(f'pasażerowie {index}')\n",
    "    axes[i].axis('equal')\n",
    "# Dopasowanie wykresów, żeby się nie nachodziły\n",
    "plt.tight_layout()\n",
    "plt.show()"
   ]
  },
  {
   "cell_type": "markdown",
   "metadata": {},
   "source": [
    "#### Wnioski\n",
    "* z 794 pasażerów niespokrewnionych przeżyło 239, czyli 30,1%\n",
    "* z 515 pasażerów spokrewnionych przeżyło 261, czyli 50,7%\n",
    "* pasażerów spokrewnionych przeżyło znacznie więcej niż niespokrewnionych, prawdopodobnie z powodu większej obecności małych dzieci w tej grupie"
   ]
  },
  {
   "cell_type": "markdown",
   "metadata": {},
   "source": [
    "### 5. Czy na przeżywalność dzieci miało wpływ posiadanie krewnych?"
   ]
  },
  {
   "cell_type": "code",
   "execution_count": null,
   "metadata": {},
   "outputs": [],
   "source": [
    "# Utworzenie df zawierającego dane wyłącznie dzieci\n",
    "child_df = df[df['age'] < 18]\n",
    "# Zebranie danych dotyczących przeżywalności dzieci w zależności od statusu rodzinnego\n",
    "ch_fam_surv_df = child_df.groupby([df['fam'].apply(lambda x: 'niespokrewnione' if x == '' else 'spokrewniene'), 'survived']).size().reset_index(name='liczba')\n",
    "ch_fam_surv_df = ch_fam_surv_df.rename(columns={'fam' : 'status'})\n",
    "# Dodanie kolumny z wyliczeniem wartości procentowej\n",
    "ch_fam_surv_df['procent'] = ch_fam_surv_df.groupby('status')['liczba'].transform(lambda x: 100 * x / x.sum()).round(1)\n",
    "ch_fam_surv_df"
   ]
  },
  {
   "cell_type": "code",
   "execution_count": null,
   "metadata": {},
   "outputs": [],
   "source": [
    "# Przygotowanie danych dla wykresu pokazującego przeżywalność dzieci w zależności od statusu rodzinnego\n",
    "ch_fam_surv_pie_df = ch_fam_surv_df.pivot(index='status', columns='survived', values='liczba')\n",
    "ch_fam_surv_pie_df"
   ]
  },
  {
   "cell_type": "code",
   "execution_count": null,
   "metadata": {},
   "outputs": [],
   "source": [
    "# Generowanie wykresu pokazującego przeżywalność dzieci w zależności od statusu rodzinnego\n",
    "fig, axes = plt.subplots(1, 2, figsize=(10, 3.5))\n",
    "fig.suptitle('Przeżywalność dzieci w zależności od statusu rodzinnego', fontsize=14)\n",
    "# Iterowanie przez wiersze df\n",
    "for i, (index, row) in enumerate(ch_fam_surv_pie_df.iterrows()):\n",
    "    axes[i].pie(row, labels=['zginęły','przeżyły'], autopct='%1.1f%%', startangle=90)\n",
    "    axes[i].set_title(f'dzieci {index}')\n",
    "    axes[i].axis('equal')\n",
    "# Dopasowanie wykresów, żeby się nie nachodziły\n",
    "plt.tight_layout()\n",
    "plt.show()"
   ]
  },
  {
   "cell_type": "markdown",
   "metadata": {},
   "source": [
    "#### Wnioski\n",
    "* z 32 dzieci niespokrewnionych przeżyło 13, czyli 40,6%\n",
    "* ze 122 dzieci spokrewnionych przeżyło 68, czyli 55,7%\n",
    "* status rodzinny dzieci miał nieduży wpływ na ich przeżywalność"
   ]
  },
  {
   "cell_type": "markdown",
   "metadata": {},
   "source": [
    "### 7. Jaki był los służących i ich \"rodzin\"?"
   ]
  },
  {
   "cell_type": "code",
   "execution_count": null,
   "metadata": {},
   "outputs": [],
   "source": [
    "# Utworzenie df jedynie z danymi służących i sprawdzenie ich liczby\n",
    "maid_df = df[df['maid'] == 1].reset_index()\n",
    "maid_df.shape[0]"
   ]
  },
  {
   "cell_type": "code",
   "execution_count": null,
   "metadata": {},
   "outputs": [],
   "source": [
    "# Sprawdzenie ile służących przeżyło\n",
    "(maid_df['survived'] == 1).sum()"
   ]
  },
  {
   "cell_type": "code",
   "execution_count": null,
   "metadata": {},
   "outputs": [],
   "source": [
    "# Sprawdzenie procentowej przeżywalności służących\n",
    "((maid_df['survived'] == 1).mean() * 100).round(1)"
   ]
  },
  {
   "cell_type": "code",
   "execution_count": null,
   "metadata": {},
   "outputs": [],
   "source": [
    "# Utworzenie df członków rodzin i służących, którzy byli w tej samej łodzi ratunkowej (rodziny miały ten sam bilet, co służący)\n",
    "df_grouped = df.groupby(['ticket', 'boat']).filter(lambda x: (x['maid'] == 1).any())\n",
    "# Sprawdzenie ile było służących, którzy z członkami \"swoich rodzin\" trafili do tej samej łodzi ratunkowej\n",
    "(df_grouped['maid'] == 1).sum()"
   ]
  },
  {
   "cell_type": "code",
   "execution_count": null,
   "metadata": {},
   "outputs": [],
   "source": [
    "# Sprawdzenie rodziny Allison, z której uratował się jedynie niespełna roczny chłopiec dzięki jednej ze służących - pannie Cleaver\n",
    "df[df['ticket'] == '113781']"
   ]
  },
  {
   "cell_type": "markdown",
   "metadata": {},
   "source": [
    "#### Wnioski\n",
    "* z grupy 23 służących przeżyło aż 20, czyli 87%\n",
    "* 19 służących trafiło do łodzi ratunkowych razem z członkami \"swoich rodzin\"\n",
    "* w rodzinie państwa Allison zginęli wszyscy oprócz niespełna rocznego synka uratowanego przez służącą - pannę Cleaver w łodzi nr 11"
   ]
  },
  {
   "cell_type": "markdown",
   "metadata": {},
   "source": [
    "### 8. Czy miejsce w szalupie oznaczało ratunek?"
   ]
  },
  {
   "cell_type": "code",
   "execution_count": null,
   "metadata": {},
   "outputs": [],
   "source": [
    "# Sprawdzenie, czy byli pasażerowie, którzy trafili do łodzi ratunkowej, ale nie przeżyli\n",
    "df[(df['boat'].notna()) & (df['survived'] == 0)].reset_index()"
   ]
  },
  {
   "cell_type": "markdown",
   "metadata": {},
   "source": [
    "#### Wnioski\n",
    "* trafienie do szalupy nie gwarantowało przeżycia katastrofy\n",
    "* 9 pasażerów, którzy trafili do różnych łodzi ratunkowych nie przeżyło katastrofy"
   ]
  },
  {
   "cell_type": "markdown",
   "metadata": {},
   "source": [
    "## E. Wnioski końcowe\n",
    "* z 1309 pasażerów katastrofę przeżyło 38,2% (500 osób) a zginęło 61,8% (809 osób)\n",
    "\n",
    "### \"Najpierw kobiety i dzieci\" - ogólna zasada ewakuacji podczas katastrof\n",
    "* w przypadku kobiet zasada ta zadziałała, ponieważ procentowo przeżyło ich prawie 4 razy więcej, niż mężczyzn\n",
    "* w przypadku dzieci zasada ta nie zadziałała dobrze, ponieważ przeżyło ich 53% a dorosłych 39%\n",
    "* jednak największa przeżywalność była w grupie wiekowej do 10 r.ż., bo aż 58%\n",
    "  \n",
    "### Pasażerowie w różnych klasach\n",
    "##### Klasa biletu miała ogromny wpływ na losy pasażerów\n",
    "* kobiety z klasy pierwszej i drugiej przeżyły prawie wszystkie, tymczasem z klasy trzeciej przeżyło nieco mniej niż połowa\n",
    "* również dzieci z klasy pierwszej i drugiej przeżyły prawie wszystkie a z klasy trzeciej przeżyła jedynie 1/3\n",
    "* podczas zajmowania miejsc w łodziach ratunkowych widać było wyraźny podział na klasy\n",
    "\n",
    "### Bohaterska służąca\n",
    "W rodzinie państwa Allison zginęli wszyscy oprócz niespełna rocznego chłopca uratowanego przez służącą - pannę Cleaver w łodzi nr 11\n"
   ]
  }
 ],
 "metadata": {
  "kernelspec": {
   "display_name": "Python 3 (ipykernel)",
   "language": "python",
   "name": "python3"
  },
  "language_info": {
   "codemirror_mode": {
    "name": "ipython",
    "version": 3
   },
   "file_extension": ".py",
   "mimetype": "text/x-python",
   "name": "python",
   "nbconvert_exporter": "python",
   "pygments_lexer": "ipython3",
   "version": "3.11.11"
  }
 },
 "nbformat": 4,
 "nbformat_minor": 4
}
